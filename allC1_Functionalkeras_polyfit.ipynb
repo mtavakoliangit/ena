{
  "cells": [
    {
      "cell_type": "markdown",
      "metadata": {
        "id": "view-in-github",
        "colab_type": "text"
      },
      "source": [
        "<a href=\"https://colab.research.google.com/github/mtavakoliangit/ena/blob/main/allC1_Functionalkeras_polyfit.ipynb\" target=\"_parent\"><img src=\"https://colab.research.google.com/assets/colab-badge.svg\" alt=\"Open In Colab\"/></a>"
      ]
    },
    {
      "cell_type": "code",
      "execution_count": null,
      "metadata": {
        "id": "cqf0Jjn6fBHw"
      },
      "outputs": [],
      "source": [
        "import numpy as np\n",
        "from tensorflow.keras.models import Model\n",
        "from tensorflow.keras.layers import Input,Dense\n",
        "from keras.layers import Dense, Activation, Dropout\n",
        "import matplotlib.pyplot as plt\n",
        "import os\n",
        "import seaborn as sns\n",
        "from sklearn.model_selection import train_test_split"
      ]
    },
    {
      "cell_type": "code",
      "execution_count": null,
      "metadata": {
        "id": "XpC1TPYU14HZ"
      },
      "outputs": [],
      "source": [
        "from keras.callbacks import History\n",
        "from sklearn.metrics import mean_squared_error, mean_absolute_error\n",
        "#from sklearn.preprocessing import StandardScaler\n",
        "from sklearn.preprocessing import MinMaxScaler\n",
        "from tensorflow import keras\n",
        "import tensorflow as tf"
      ]
    },
    {
      "cell_type": "code",
      "execution_count": null,
      "metadata": {
        "id": "WFZDep12jfMs"
      },
      "outputs": [],
      "source": [
        "import pickle\n",
        "from scipy.optimize import curve_fit\n",
        "import warnings\n",
        "warnings.filterwarnings('ignore')\n",
        "from IPython.display import clear_output\n",
        "from sklearn.linear_model import LinearRegression"
      ]
    },
    {
      "cell_type": "code",
      "execution_count": null,
      "metadata": {
        "id": "hHbMVdRm2nZE"
      },
      "outputs": [],
      "source": [
        "import matplotlib as mpl\n",
        "mpl.rcParams['figure.dpi']= 100"
      ]
    },
    {
      "cell_type": "code",
      "execution_count": null,
      "metadata": {
        "colab": {
          "base_uri": "https://localhost:8080/"
        },
        "id": "ZjMPivyavB85",
        "outputId": "e8ada24b-239f-4e7c-9a22-89b3ce60964b"
      },
      "outputs": [
        {
          "output_type": "stream",
          "name": "stdout",
          "text": [
            "Drive already mounted at /content/gdrive; to attempt to forcibly remount, call drive.mount(\"/content/gdrive\", force_remount=True).\n"
          ]
        }
      ],
      "source": [
        "from google.colab import drive \n",
        "drive.mount('/content/gdrive')"
      ]
    },
    {
      "cell_type": "code",
      "execution_count": null,
      "metadata": {
        "id": "_-TKXYDk_x-h"
      },
      "outputs": [],
      "source": [
        "import pandas as pd \n",
        "data_df=pd.read_csv('gdrive/My Drive/CO2_Database/groupedC1_minusConstP.csv')"
      ]
    },
    {
      "cell_type": "code",
      "source": [
        "data_df.info()"
      ],
      "metadata": {
        "id": "83OIt7XaWlva",
        "colab": {
          "base_uri": "https://localhost:8080/"
        },
        "outputId": "79c91608-f5a8-4d02-ac0d-104c84dffc91"
      },
      "execution_count": null,
      "outputs": [
        {
          "output_type": "stream",
          "name": "stdout",
          "text": [
            "<class 'pandas.core.frame.DataFrame'>\n",
            "RangeIndex: 1661 entries, 0 to 1660\n",
            "Data columns (total 7 columns):\n",
            " #   Column                       Non-Null Count  Dtype  \n",
            "---  ------                       --------------  -----  \n",
            " 0   Gas                          1661 non-null   object \n",
            " 1   Rock                         1661 non-null   object \n",
            " 2   TOC (%)                      1661 non-null   float64\n",
            " 3   Moisture (%)                 1661 non-null   float64\n",
            " 4   Temp (C)                     1661 non-null   float64\n",
            " 5   Pres. (MPa)                  1661 non-null   float64\n",
            " 6   C1 Excess Sorption (cm3/gr)  1661 non-null   float64\n",
            "dtypes: float64(5), object(2)\n",
            "memory usage: 91.0+ KB\n"
          ]
        }
      ]
    },
    {
      "cell_type": "code",
      "source": [
        "data_df.describe()"
      ],
      "metadata": {
        "id": "V3Ybx1NTWmry",
        "colab": {
          "base_uri": "https://localhost:8080/"
        },
        "outputId": "19a5c0b5-01a5-4044-c6ff-a8264a7c7f83"
      },
      "execution_count": null,
      "outputs": [
        {
          "output_type": "execute_result",
          "data": {
            "text/html": [
              "\n",
              "  <div id=\"df-28d0acf1-ed8e-449c-8b6b-65ca35086922\">\n",
              "    <div class=\"colab-df-container\">\n",
              "      <div>\n",
              "<style scoped>\n",
              "    .dataframe tbody tr th:only-of-type {\n",
              "        vertical-align: middle;\n",
              "    }\n",
              "\n",
              "    .dataframe tbody tr th {\n",
              "        vertical-align: top;\n",
              "    }\n",
              "\n",
              "    .dataframe thead th {\n",
              "        text-align: right;\n",
              "    }\n",
              "</style>\n",
              "<table border=\"1\" class=\"dataframe\">\n",
              "  <thead>\n",
              "    <tr style=\"text-align: right;\">\n",
              "      <th></th>\n",
              "      <th>TOC (%)</th>\n",
              "      <th>Moisture (%)</th>\n",
              "      <th>Temp (C)</th>\n",
              "      <th>Pres. (MPa)</th>\n",
              "      <th>C1 Excess Sorption (cm3/gr)</th>\n",
              "    </tr>\n",
              "  </thead>\n",
              "  <tbody>\n",
              "    <tr>\n",
              "      <th>count</th>\n",
              "      <td>1661.000000</td>\n",
              "      <td>1661.000000</td>\n",
              "      <td>1661.000000</td>\n",
              "      <td>1661.000000</td>\n",
              "      <td>1661.000000</td>\n",
              "    </tr>\n",
              "    <tr>\n",
              "      <th>mean</th>\n",
              "      <td>15.649607</td>\n",
              "      <td>1.096797</td>\n",
              "      <td>56.230825</td>\n",
              "      <td>9.665183</td>\n",
              "      <td>1.493944</td>\n",
              "    </tr>\n",
              "    <tr>\n",
              "      <th>std</th>\n",
              "      <td>25.923400</td>\n",
              "      <td>1.895442</td>\n",
              "      <td>16.056862</td>\n",
              "      <td>7.080627</td>\n",
              "      <td>1.378896</td>\n",
              "    </tr>\n",
              "    <tr>\n",
              "      <th>min</th>\n",
              "      <td>0.090000</td>\n",
              "      <td>0.000000</td>\n",
              "      <td>30.000000</td>\n",
              "      <td>0.164000</td>\n",
              "      <td>0.001600</td>\n",
              "    </tr>\n",
              "    <tr>\n",
              "      <th>25%</th>\n",
              "      <td>2.364292</td>\n",
              "      <td>0.000000</td>\n",
              "      <td>38.000000</td>\n",
              "      <td>3.390000</td>\n",
              "      <td>0.502000</td>\n",
              "    </tr>\n",
              "    <tr>\n",
              "      <th>50%</th>\n",
              "      <td>5.150000</td>\n",
              "      <td>0.000000</td>\n",
              "      <td>61.000000</td>\n",
              "      <td>8.418500</td>\n",
              "      <td>1.147800</td>\n",
              "    </tr>\n",
              "    <tr>\n",
              "      <th>75%</th>\n",
              "      <td>7.700000</td>\n",
              "      <td>1.720000</td>\n",
              "      <td>65.000000</td>\n",
              "      <td>15.119500</td>\n",
              "      <td>2.050500</td>\n",
              "    </tr>\n",
              "    <tr>\n",
              "      <th>max</th>\n",
              "      <td>88.500000</td>\n",
              "      <td>7.340000</td>\n",
              "      <td>150.000000</td>\n",
              "      <td>27.861700</td>\n",
              "      <td>7.036200</td>\n",
              "    </tr>\n",
              "  </tbody>\n",
              "</table>\n",
              "</div>\n",
              "      <button class=\"colab-df-convert\" onclick=\"convertToInteractive('df-28d0acf1-ed8e-449c-8b6b-65ca35086922')\"\n",
              "              title=\"Convert this dataframe to an interactive table.\"\n",
              "              style=\"display:none;\">\n",
              "        \n",
              "  <svg xmlns=\"http://www.w3.org/2000/svg\" height=\"24px\"viewBox=\"0 0 24 24\"\n",
              "       width=\"24px\">\n",
              "    <path d=\"M0 0h24v24H0V0z\" fill=\"none\"/>\n",
              "    <path d=\"M18.56 5.44l.94 2.06.94-2.06 2.06-.94-2.06-.94-.94-2.06-.94 2.06-2.06.94zm-11 1L8.5 8.5l.94-2.06 2.06-.94-2.06-.94L8.5 2.5l-.94 2.06-2.06.94zm10 10l.94 2.06.94-2.06 2.06-.94-2.06-.94-.94-2.06-.94 2.06-2.06.94z\"/><path d=\"M17.41 7.96l-1.37-1.37c-.4-.4-.92-.59-1.43-.59-.52 0-1.04.2-1.43.59L10.3 9.45l-7.72 7.72c-.78.78-.78 2.05 0 2.83L4 21.41c.39.39.9.59 1.41.59.51 0 1.02-.2 1.41-.59l7.78-7.78 2.81-2.81c.8-.78.8-2.07 0-2.86zM5.41 20L4 18.59l7.72-7.72 1.47 1.35L5.41 20z\"/>\n",
              "  </svg>\n",
              "      </button>\n",
              "      \n",
              "  <style>\n",
              "    .colab-df-container {\n",
              "      display:flex;\n",
              "      flex-wrap:wrap;\n",
              "      gap: 12px;\n",
              "    }\n",
              "\n",
              "    .colab-df-convert {\n",
              "      background-color: #E8F0FE;\n",
              "      border: none;\n",
              "      border-radius: 50%;\n",
              "      cursor: pointer;\n",
              "      display: none;\n",
              "      fill: #1967D2;\n",
              "      height: 32px;\n",
              "      padding: 0 0 0 0;\n",
              "      width: 32px;\n",
              "    }\n",
              "\n",
              "    .colab-df-convert:hover {\n",
              "      background-color: #E2EBFA;\n",
              "      box-shadow: 0px 1px 2px rgba(60, 64, 67, 0.3), 0px 1px 3px 1px rgba(60, 64, 67, 0.15);\n",
              "      fill: #174EA6;\n",
              "    }\n",
              "\n",
              "    [theme=dark] .colab-df-convert {\n",
              "      background-color: #3B4455;\n",
              "      fill: #D2E3FC;\n",
              "    }\n",
              "\n",
              "    [theme=dark] .colab-df-convert:hover {\n",
              "      background-color: #434B5C;\n",
              "      box-shadow: 0px 1px 3px 1px rgba(0, 0, 0, 0.15);\n",
              "      filter: drop-shadow(0px 1px 2px rgba(0, 0, 0, 0.3));\n",
              "      fill: #FFFFFF;\n",
              "    }\n",
              "  </style>\n",
              "\n",
              "      <script>\n",
              "        const buttonEl =\n",
              "          document.querySelector('#df-28d0acf1-ed8e-449c-8b6b-65ca35086922 button.colab-df-convert');\n",
              "        buttonEl.style.display =\n",
              "          google.colab.kernel.accessAllowed ? 'block' : 'none';\n",
              "\n",
              "        async function convertToInteractive(key) {\n",
              "          const element = document.querySelector('#df-28d0acf1-ed8e-449c-8b6b-65ca35086922');\n",
              "          const dataTable =\n",
              "            await google.colab.kernel.invokeFunction('convertToInteractive',\n",
              "                                                     [key], {});\n",
              "          if (!dataTable) return;\n",
              "\n",
              "          const docLinkHtml = 'Like what you see? Visit the ' +\n",
              "            '<a target=\"_blank\" href=https://colab.research.google.com/notebooks/data_table.ipynb>data table notebook</a>'\n",
              "            + ' to learn more about interactive tables.';\n",
              "          element.innerHTML = '';\n",
              "          dataTable['output_type'] = 'display_data';\n",
              "          await google.colab.output.renderOutput(dataTable, element);\n",
              "          const docLink = document.createElement('div');\n",
              "          docLink.innerHTML = docLinkHtml;\n",
              "          element.appendChild(docLink);\n",
              "        }\n",
              "      </script>\n",
              "    </div>\n",
              "  </div>\n",
              "  "
            ],
            "text/plain": [
              "           TOC (%)  Moisture (%)  ...  Pres. (MPa)  C1 Excess Sorption (cm3/gr)\n",
              "count  1661.000000   1661.000000  ...  1661.000000                  1661.000000\n",
              "mean     15.649607      1.096797  ...     9.665183                     1.493944\n",
              "std      25.923400      1.895442  ...     7.080627                     1.378896\n",
              "min       0.090000      0.000000  ...     0.164000                     0.001600\n",
              "25%       2.364292      0.000000  ...     3.390000                     0.502000\n",
              "50%       5.150000      0.000000  ...     8.418500                     1.147800\n",
              "75%       7.700000      1.720000  ...    15.119500                     2.050500\n",
              "max      88.500000      7.340000  ...    27.861700                     7.036200\n",
              "\n",
              "[8 rows x 5 columns]"
            ]
          },
          "metadata": {},
          "execution_count": 8
        }
      ]
    },
    {
      "cell_type": "code",
      "source": [
        "# Function to insert row in the dataframe\n",
        "def Insert_row(row_number, df, row_value):\n",
        "\t# Starting value of upper half\n",
        "\tstart_upper = 0\n",
        "\n",
        "\t# End value of upper half\n",
        "\tend_upper = row_number\n",
        "\n",
        "\t# Start value of lower half\n",
        "\tstart_lower = row_number\n",
        "\n",
        "\t# End value of lower half\n",
        "\tend_lower = df.shape[0]\n",
        "\n",
        "\t# Create a list of upper_half index\n",
        "\tupper_half = [*range(start_upper, end_upper, 1)]\n",
        "\n",
        "\t# Create a list of lower_half index\n",
        "\tlower_half = [*range(start_lower, end_lower, 1)]\n",
        "\n",
        "\t# Increment the value of lower half by 1\n",
        "\tlower_half = [x.__add__(1) for x in lower_half]\n",
        "\n",
        "\t# Combine the two lists\n",
        "\tindex_ = upper_half + lower_half\n",
        "\n",
        "\t# Update the index of the dataframe\n",
        "\tdf.index = index_\n",
        "\n",
        "\t# Insert a row at the end\n",
        "\tdf.loc[row_number] = row_value\n",
        "\n",
        "\t# Sort the index labels\n",
        "\tdf = df.sort_index()\n",
        "\n",
        "\t# return the dataframe\n",
        "\treturn df"
      ],
      "metadata": {
        "id": "IaAS4xpYLrp2"
      },
      "execution_count": null,
      "outputs": []
    },
    {
      "cell_type": "markdown",
      "source": [
        "#### Adding P=0, sorption=0 to the datasets, counting the number of datasets (experiments):"
      ],
      "metadata": {
        "id": "8hy5MQHcLzUC"
      }
    },
    {
      "cell_type": "code",
      "source": [
        "i = 0\n",
        "row_value = [data_df['Gas'][i], data_df['Rock'][i], data_df['TOC (%)'][i], data_df['Moisture (%)'][i], data_df['Temp (C)'][i], 0, 0]\n",
        "data_df = Insert_row(i, data_df, row_value)"
      ],
      "metadata": {
        "id": "7TyM453zopxz"
      },
      "execution_count": null,
      "outputs": []
    },
    {
      "cell_type": "code",
      "source": [
        "P = []\n",
        "sorp = []\n",
        "polyfit_df = pd.DataFrame(columns=['Gas', 'Rock', 'TOC (%)', 'Moisture (%)', 'Temp (C)', 'a', 'b', 'c', 'd'])\n",
        "# df_backup is a shadow of polyfit_df to be used for de-normalisation \n",
        "df_backup = pd.DataFrame(columns=['Gas', 'Rock', 'TOC (%)', 'Moisture (%)', 'Temp (C)', 'a', 'b', 'c', 'd'])"
      ],
      "metadata": {
        "id": "I8_D_01YpIUj"
      },
      "execution_count": null,
      "outputs": []
    },
    {
      "cell_type": "code",
      "source": [
        "while i < data_df.shape[0] - 1:\n",
        "    i += 1\n",
        "    if data_df['Pres. (MPa)'][i] > data_df['Pres. (MPa)'][i-1]:\n",
        "        P.append(data_df['Pres. (MPa)'][i-1])\n",
        "        sorp.append(data_df['C1 Excess Sorption (cm3/gr)'][i-1])\n",
        "    else:\n",
        "        P.append(data_df['Pres. (MPa)'][i-1])\n",
        "        sorp.append(data_df['C1 Excess Sorption (cm3/gr)'][i-1])\n",
        "        row_value = [data_df['Gas'][i], data_df['Rock'][i], data_df['TOC (%)'][i], data_df['Moisture (%)'][i], data_df['Temp (C)'][i], 0, 0]\n",
        "        data_df = Insert_row(i, data_df, row_value)\n",
        "        poly = np.polyfit(P, sorp, deg=3)\n",
        "        polyfit_df = polyfit_df.append({'Gas': data_df['Gas'][i], 'Rock': data_df['Rock'][i], 'TOC (%)': data_df['TOC (%)'][i], 'Moisture (%)': data_df['Moisture (%)'][i],\n",
        "                                        'Temp (C)': data_df['Temp (C)'][i], 'a': poly[0], 'b': poly[1], 'c': poly[2], 'd': poly[3]},ignore_index=True)\n",
        "        df_backup = df_backup.append({'Gas': data_df['Gas'][i], 'Rock': data_df['Rock'][i], 'TOC (%)': data_df['TOC (%)'][i], 'Moisture (%)': data_df['Moisture (%)'][i],\n",
        "                                        'Temp (C)': data_df['Temp (C)'][i], 'a': poly[0], 'b': poly[1], 'c': poly[2], 'd': poly[3]},ignore_index=True)\n",
        "        P = []\n",
        "        sorp = []\n",
        "\n",
        "#last experimental data set:\n",
        "P.append(data_df['Pres. (MPa)'][data_df.shape[0]-1])\n",
        "sorp.append(data_df['C1 Excess Sorption (cm3/gr)'][data_df.shape[0]-1])\n",
        "poly = np.polyfit(P, sorp, deg=3)\n",
        "polyfit_df = polyfit_df.append({'Gas': data_df['Gas'][i], 'Rock': data_df['Rock'][i], 'TOC (%)': data_df['TOC (%)'][i], 'Moisture (%)': data_df['Moisture (%)'][i],\n",
        "                                        'Temp (C)': data_df['Temp (C)'][i], 'a': poly[0], 'b': poly[1], 'c': poly[2], 'd': poly[3]},ignore_index=True)\n",
        "df_backup = df_backup.append({'Gas': data_df['Gas'][i], 'Rock': data_df['Rock'][i], 'TOC (%)': data_df['TOC (%)'][i], 'Moisture (%)': data_df['Moisture (%)'][i],\n",
        "                                        'Temp (C)': data_df['Temp (C)'][i], 'a': poly[0], 'b': poly[1], 'c': poly[2], 'd': poly[3]},ignore_index=True)"
      ],
      "metadata": {
        "id": "ESnEPmBCpUey"
      },
      "execution_count": null,
      "outputs": []
    },
    {
      "cell_type": "code",
      "source": [
        "num_exp = polyfit_df.shape[0] #number of experimental datasets"
      ],
      "metadata": {
        "id": "6gFn0QnQAYNE"
      },
      "execution_count": null,
      "outputs": []
    },
    {
      "cell_type": "code",
      "source": [
        "polyfit_df.info()"
      ],
      "metadata": {
        "id": "CoMdbMnTTxft",
        "colab": {
          "base_uri": "https://localhost:8080/"
        },
        "outputId": "a955ae83-fe31-4c76-8947-d4ddef186bb7"
      },
      "execution_count": null,
      "outputs": [
        {
          "output_type": "stream",
          "name": "stdout",
          "text": [
            "<class 'pandas.core.frame.DataFrame'>\n",
            "RangeIndex: 122 entries, 0 to 121\n",
            "Data columns (total 9 columns):\n",
            " #   Column        Non-Null Count  Dtype  \n",
            "---  ------        --------------  -----  \n",
            " 0   Gas           122 non-null    object \n",
            " 1   Rock          122 non-null    object \n",
            " 2   TOC (%)       122 non-null    float64\n",
            " 3   Moisture (%)  122 non-null    float64\n",
            " 4   Temp (C)      122 non-null    float64\n",
            " 5   a             122 non-null    float64\n",
            " 6   b             122 non-null    float64\n",
            " 7   c             122 non-null    float64\n",
            " 8   d             122 non-null    float64\n",
            "dtypes: float64(7), object(2)\n",
            "memory usage: 8.7+ KB\n"
          ]
        }
      ]
    },
    {
      "cell_type": "code",
      "source": [
        "polyfit_df.head()"
      ],
      "metadata": {
        "id": "4t_tyxARUK1n",
        "colab": {
          "base_uri": "https://localhost:8080/"
        },
        "outputId": "b9356576-9193-4aeb-d519-55afdfa34bf0"
      },
      "execution_count": null,
      "outputs": [
        {
          "output_type": "execute_result",
          "data": {
            "text/html": [
              "\n",
              "  <div id=\"df-c669f112-25b1-4157-bade-8a00e2fccb16\">\n",
              "    <div class=\"colab-df-container\">\n",
              "      <div>\n",
              "<style scoped>\n",
              "    .dataframe tbody tr th:only-of-type {\n",
              "        vertical-align: middle;\n",
              "    }\n",
              "\n",
              "    .dataframe tbody tr th {\n",
              "        vertical-align: top;\n",
              "    }\n",
              "\n",
              "    .dataframe thead th {\n",
              "        text-align: right;\n",
              "    }\n",
              "</style>\n",
              "<table border=\"1\" class=\"dataframe\">\n",
              "  <thead>\n",
              "    <tr style=\"text-align: right;\">\n",
              "      <th></th>\n",
              "      <th>Gas</th>\n",
              "      <th>Rock</th>\n",
              "      <th>TOC (%)</th>\n",
              "      <th>Moisture (%)</th>\n",
              "      <th>Temp (C)</th>\n",
              "      <th>a</th>\n",
              "      <th>b</th>\n",
              "      <th>c</th>\n",
              "      <th>d</th>\n",
              "    </tr>\n",
              "  </thead>\n",
              "  <tbody>\n",
              "    <tr>\n",
              "      <th>0</th>\n",
              "      <td>CH4</td>\n",
              "      <td>Shale/Clay</td>\n",
              "      <td>0.44</td>\n",
              "      <td>0.66</td>\n",
              "      <td>50.0</td>\n",
              "      <td>0.000071</td>\n",
              "      <td>-0.004063</td>\n",
              "      <td>0.084773</td>\n",
              "      <td>0.006556</td>\n",
              "    </tr>\n",
              "    <tr>\n",
              "      <th>1</th>\n",
              "      <td>CH4</td>\n",
              "      <td>Shale/Clay</td>\n",
              "      <td>0.09</td>\n",
              "      <td>1.51</td>\n",
              "      <td>38.0</td>\n",
              "      <td>0.000034</td>\n",
              "      <td>-0.001648</td>\n",
              "      <td>0.029622</td>\n",
              "      <td>0.003540</td>\n",
              "    </tr>\n",
              "    <tr>\n",
              "      <th>2</th>\n",
              "      <td>CH4</td>\n",
              "      <td>Shale/Clay</td>\n",
              "      <td>3.25</td>\n",
              "      <td>1.47</td>\n",
              "      <td>38.0</td>\n",
              "      <td>-0.000004</td>\n",
              "      <td>-0.001721</td>\n",
              "      <td>0.056056</td>\n",
              "      <td>-0.010959</td>\n",
              "    </tr>\n",
              "    <tr>\n",
              "      <th>3</th>\n",
              "      <td>CH4</td>\n",
              "      <td>Shale/Clay</td>\n",
              "      <td>0.38</td>\n",
              "      <td>1.87</td>\n",
              "      <td>38.0</td>\n",
              "      <td>0.000087</td>\n",
              "      <td>-0.003489</td>\n",
              "      <td>0.070049</td>\n",
              "      <td>0.000219</td>\n",
              "    </tr>\n",
              "    <tr>\n",
              "      <th>4</th>\n",
              "      <td>CH4</td>\n",
              "      <td>Shale/Clay</td>\n",
              "      <td>0.75</td>\n",
              "      <td>0.59</td>\n",
              "      <td>38.0</td>\n",
              "      <td>-0.000037</td>\n",
              "      <td>-0.000369</td>\n",
              "      <td>0.033971</td>\n",
              "      <td>-0.007542</td>\n",
              "    </tr>\n",
              "  </tbody>\n",
              "</table>\n",
              "</div>\n",
              "      <button class=\"colab-df-convert\" onclick=\"convertToInteractive('df-c669f112-25b1-4157-bade-8a00e2fccb16')\"\n",
              "              title=\"Convert this dataframe to an interactive table.\"\n",
              "              style=\"display:none;\">\n",
              "        \n",
              "  <svg xmlns=\"http://www.w3.org/2000/svg\" height=\"24px\"viewBox=\"0 0 24 24\"\n",
              "       width=\"24px\">\n",
              "    <path d=\"M0 0h24v24H0V0z\" fill=\"none\"/>\n",
              "    <path d=\"M18.56 5.44l.94 2.06.94-2.06 2.06-.94-2.06-.94-.94-2.06-.94 2.06-2.06.94zm-11 1L8.5 8.5l.94-2.06 2.06-.94-2.06-.94L8.5 2.5l-.94 2.06-2.06.94zm10 10l.94 2.06.94-2.06 2.06-.94-2.06-.94-.94-2.06-.94 2.06-2.06.94z\"/><path d=\"M17.41 7.96l-1.37-1.37c-.4-.4-.92-.59-1.43-.59-.52 0-1.04.2-1.43.59L10.3 9.45l-7.72 7.72c-.78.78-.78 2.05 0 2.83L4 21.41c.39.39.9.59 1.41.59.51 0 1.02-.2 1.41-.59l7.78-7.78 2.81-2.81c.8-.78.8-2.07 0-2.86zM5.41 20L4 18.59l7.72-7.72 1.47 1.35L5.41 20z\"/>\n",
              "  </svg>\n",
              "      </button>\n",
              "      \n",
              "  <style>\n",
              "    .colab-df-container {\n",
              "      display:flex;\n",
              "      flex-wrap:wrap;\n",
              "      gap: 12px;\n",
              "    }\n",
              "\n",
              "    .colab-df-convert {\n",
              "      background-color: #E8F0FE;\n",
              "      border: none;\n",
              "      border-radius: 50%;\n",
              "      cursor: pointer;\n",
              "      display: none;\n",
              "      fill: #1967D2;\n",
              "      height: 32px;\n",
              "      padding: 0 0 0 0;\n",
              "      width: 32px;\n",
              "    }\n",
              "\n",
              "    .colab-df-convert:hover {\n",
              "      background-color: #E2EBFA;\n",
              "      box-shadow: 0px 1px 2px rgba(60, 64, 67, 0.3), 0px 1px 3px 1px rgba(60, 64, 67, 0.15);\n",
              "      fill: #174EA6;\n",
              "    }\n",
              "\n",
              "    [theme=dark] .colab-df-convert {\n",
              "      background-color: #3B4455;\n",
              "      fill: #D2E3FC;\n",
              "    }\n",
              "\n",
              "    [theme=dark] .colab-df-convert:hover {\n",
              "      background-color: #434B5C;\n",
              "      box-shadow: 0px 1px 3px 1px rgba(0, 0, 0, 0.15);\n",
              "      filter: drop-shadow(0px 1px 2px rgba(0, 0, 0, 0.3));\n",
              "      fill: #FFFFFF;\n",
              "    }\n",
              "  </style>\n",
              "\n",
              "      <script>\n",
              "        const buttonEl =\n",
              "          document.querySelector('#df-c669f112-25b1-4157-bade-8a00e2fccb16 button.colab-df-convert');\n",
              "        buttonEl.style.display =\n",
              "          google.colab.kernel.accessAllowed ? 'block' : 'none';\n",
              "\n",
              "        async function convertToInteractive(key) {\n",
              "          const element = document.querySelector('#df-c669f112-25b1-4157-bade-8a00e2fccb16');\n",
              "          const dataTable =\n",
              "            await google.colab.kernel.invokeFunction('convertToInteractive',\n",
              "                                                     [key], {});\n",
              "          if (!dataTable) return;\n",
              "\n",
              "          const docLinkHtml = 'Like what you see? Visit the ' +\n",
              "            '<a target=\"_blank\" href=https://colab.research.google.com/notebooks/data_table.ipynb>data table notebook</a>'\n",
              "            + ' to learn more about interactive tables.';\n",
              "          element.innerHTML = '';\n",
              "          dataTable['output_type'] = 'display_data';\n",
              "          await google.colab.output.renderOutput(dataTable, element);\n",
              "          const docLink = document.createElement('div');\n",
              "          docLink.innerHTML = docLinkHtml;\n",
              "          element.appendChild(docLink);\n",
              "        }\n",
              "      </script>\n",
              "    </div>\n",
              "  </div>\n",
              "  "
            ],
            "text/plain": [
              "   Gas        Rock  TOC (%)  ...         b         c         d\n",
              "0  CH4  Shale/Clay     0.44  ... -0.004063  0.084773  0.006556\n",
              "1  CH4  Shale/Clay     0.09  ... -0.001648  0.029622  0.003540\n",
              "2  CH4  Shale/Clay     3.25  ... -0.001721  0.056056 -0.010959\n",
              "3  CH4  Shale/Clay     0.38  ... -0.003489  0.070049  0.000219\n",
              "4  CH4  Shale/Clay     0.75  ... -0.000369  0.033971 -0.007542\n",
              "\n",
              "[5 rows x 9 columns]"
            ]
          },
          "metadata": {},
          "execution_count": 15
        }
      ]
    },
    {
      "cell_type": "code",
      "source": [
        "df = polyfit_df"
      ],
      "metadata": {
        "id": "6wi_AX9af-4e"
      },
      "execution_count": null,
      "outputs": []
    },
    {
      "cell_type": "code",
      "execution_count": null,
      "metadata": {
        "id": "8rEl6sTJtxxd"
      },
      "outputs": [],
      "source": [
        "cols = ['TOC (%)', 'Moisture (%)', 'Temp (C)', 'a', 'b', 'c', 'd']\n",
        "for col in cols:\n",
        "  #scale = StandardScaler().fit(df[[col]])\n",
        "  #df[[col]] = scale.transform(df[[col]])\n",
        "  norm = MinMaxScaler().fit(df[[col]])\n",
        "  df[[col]] = norm.transform(df[[col]])"
      ]
    },
    {
      "cell_type": "code",
      "execution_count": null,
      "metadata": {
        "id": "2DtmZ-fd1TK-",
        "colab": {
          "base_uri": "https://localhost:8080/"
        },
        "outputId": "9d5bc76e-8234-42e6-d713-b9e4b2883424"
      },
      "outputs": [
        {
          "output_type": "execute_result",
          "data": {
            "text/html": [
              "\n",
              "  <div id=\"df-7fd8aec3-67d9-45ff-8514-3efd5a5237dc\">\n",
              "    <div class=\"colab-df-container\">\n",
              "      <div>\n",
              "<style scoped>\n",
              "    .dataframe tbody tr th:only-of-type {\n",
              "        vertical-align: middle;\n",
              "    }\n",
              "\n",
              "    .dataframe tbody tr th {\n",
              "        vertical-align: top;\n",
              "    }\n",
              "\n",
              "    .dataframe thead th {\n",
              "        text-align: right;\n",
              "    }\n",
              "</style>\n",
              "<table border=\"1\" class=\"dataframe\">\n",
              "  <thead>\n",
              "    <tr style=\"text-align: right;\">\n",
              "      <th></th>\n",
              "      <th>TOC (%)</th>\n",
              "      <th>Moisture (%)</th>\n",
              "      <th>Temp (C)</th>\n",
              "      <th>a</th>\n",
              "      <th>b</th>\n",
              "      <th>c</th>\n",
              "      <th>d</th>\n",
              "    </tr>\n",
              "  </thead>\n",
              "  <tbody>\n",
              "    <tr>\n",
              "      <th>count</th>\n",
              "      <td>122.000000</td>\n",
              "      <td>122.000000</td>\n",
              "      <td>122.000000</td>\n",
              "      <td>122.000000</td>\n",
              "      <td>122.000000</td>\n",
              "      <td>122.000000</td>\n",
              "      <td>122.000000</td>\n",
              "    </tr>\n",
              "    <tr>\n",
              "      <th>mean</th>\n",
              "      <td>0.173204</td>\n",
              "      <td>0.196710</td>\n",
              "      <td>0.213183</td>\n",
              "      <td>0.174554</td>\n",
              "      <td>0.829492</td>\n",
              "      <td>0.214009</td>\n",
              "      <td>0.288495</td>\n",
              "    </tr>\n",
              "    <tr>\n",
              "      <th>std</th>\n",
              "      <td>0.295739</td>\n",
              "      <td>0.271314</td>\n",
              "      <td>0.142779</td>\n",
              "      <td>0.197608</td>\n",
              "      <td>0.209815</td>\n",
              "      <td>0.238653</td>\n",
              "      <td>0.156909</td>\n",
              "    </tr>\n",
              "    <tr>\n",
              "      <th>min</th>\n",
              "      <td>0.000000</td>\n",
              "      <td>0.000000</td>\n",
              "      <td>0.000000</td>\n",
              "      <td>0.000000</td>\n",
              "      <td>0.000000</td>\n",
              "      <td>0.000000</td>\n",
              "      <td>0.000000</td>\n",
              "    </tr>\n",
              "    <tr>\n",
              "      <th>25%</th>\n",
              "      <td>0.025724</td>\n",
              "      <td>0.000000</td>\n",
              "      <td>0.066667</td>\n",
              "      <td>0.089021</td>\n",
              "      <td>0.838393</td>\n",
              "      <td>0.059444</td>\n",
              "      <td>0.177186</td>\n",
              "    </tr>\n",
              "    <tr>\n",
              "      <th>50%</th>\n",
              "      <td>0.056283</td>\n",
              "      <td>0.000000</td>\n",
              "      <td>0.258333</td>\n",
              "      <td>0.099626</td>\n",
              "      <td>0.907237</td>\n",
              "      <td>0.131683</td>\n",
              "      <td>0.249852</td>\n",
              "    </tr>\n",
              "    <tr>\n",
              "      <th>75%</th>\n",
              "      <td>0.084662</td>\n",
              "      <td>0.408719</td>\n",
              "      <td>0.291667</td>\n",
              "      <td>0.144018</td>\n",
              "      <td>0.937307</td>\n",
              "      <td>0.243090</td>\n",
              "      <td>0.364751</td>\n",
              "    </tr>\n",
              "    <tr>\n",
              "      <th>max</th>\n",
              "      <td>1.000000</td>\n",
              "      <td>1.000000</td>\n",
              "      <td>1.000000</td>\n",
              "      <td>1.000000</td>\n",
              "      <td>1.000000</td>\n",
              "      <td>1.000000</td>\n",
              "      <td>1.000000</td>\n",
              "    </tr>\n",
              "  </tbody>\n",
              "</table>\n",
              "</div>\n",
              "      <button class=\"colab-df-convert\" onclick=\"convertToInteractive('df-7fd8aec3-67d9-45ff-8514-3efd5a5237dc')\"\n",
              "              title=\"Convert this dataframe to an interactive table.\"\n",
              "              style=\"display:none;\">\n",
              "        \n",
              "  <svg xmlns=\"http://www.w3.org/2000/svg\" height=\"24px\"viewBox=\"0 0 24 24\"\n",
              "       width=\"24px\">\n",
              "    <path d=\"M0 0h24v24H0V0z\" fill=\"none\"/>\n",
              "    <path d=\"M18.56 5.44l.94 2.06.94-2.06 2.06-.94-2.06-.94-.94-2.06-.94 2.06-2.06.94zm-11 1L8.5 8.5l.94-2.06 2.06-.94-2.06-.94L8.5 2.5l-.94 2.06-2.06.94zm10 10l.94 2.06.94-2.06 2.06-.94-2.06-.94-.94-2.06-.94 2.06-2.06.94z\"/><path d=\"M17.41 7.96l-1.37-1.37c-.4-.4-.92-.59-1.43-.59-.52 0-1.04.2-1.43.59L10.3 9.45l-7.72 7.72c-.78.78-.78 2.05 0 2.83L4 21.41c.39.39.9.59 1.41.59.51 0 1.02-.2 1.41-.59l7.78-7.78 2.81-2.81c.8-.78.8-2.07 0-2.86zM5.41 20L4 18.59l7.72-7.72 1.47 1.35L5.41 20z\"/>\n",
              "  </svg>\n",
              "      </button>\n",
              "      \n",
              "  <style>\n",
              "    .colab-df-container {\n",
              "      display:flex;\n",
              "      flex-wrap:wrap;\n",
              "      gap: 12px;\n",
              "    }\n",
              "\n",
              "    .colab-df-convert {\n",
              "      background-color: #E8F0FE;\n",
              "      border: none;\n",
              "      border-radius: 50%;\n",
              "      cursor: pointer;\n",
              "      display: none;\n",
              "      fill: #1967D2;\n",
              "      height: 32px;\n",
              "      padding: 0 0 0 0;\n",
              "      width: 32px;\n",
              "    }\n",
              "\n",
              "    .colab-df-convert:hover {\n",
              "      background-color: #E2EBFA;\n",
              "      box-shadow: 0px 1px 2px rgba(60, 64, 67, 0.3), 0px 1px 3px 1px rgba(60, 64, 67, 0.15);\n",
              "      fill: #174EA6;\n",
              "    }\n",
              "\n",
              "    [theme=dark] .colab-df-convert {\n",
              "      background-color: #3B4455;\n",
              "      fill: #D2E3FC;\n",
              "    }\n",
              "\n",
              "    [theme=dark] .colab-df-convert:hover {\n",
              "      background-color: #434B5C;\n",
              "      box-shadow: 0px 1px 3px 1px rgba(0, 0, 0, 0.15);\n",
              "      filter: drop-shadow(0px 1px 2px rgba(0, 0, 0, 0.3));\n",
              "      fill: #FFFFFF;\n",
              "    }\n",
              "  </style>\n",
              "\n",
              "      <script>\n",
              "        const buttonEl =\n",
              "          document.querySelector('#df-7fd8aec3-67d9-45ff-8514-3efd5a5237dc button.colab-df-convert');\n",
              "        buttonEl.style.display =\n",
              "          google.colab.kernel.accessAllowed ? 'block' : 'none';\n",
              "\n",
              "        async function convertToInteractive(key) {\n",
              "          const element = document.querySelector('#df-7fd8aec3-67d9-45ff-8514-3efd5a5237dc');\n",
              "          const dataTable =\n",
              "            await google.colab.kernel.invokeFunction('convertToInteractive',\n",
              "                                                     [key], {});\n",
              "          if (!dataTable) return;\n",
              "\n",
              "          const docLinkHtml = 'Like what you see? Visit the ' +\n",
              "            '<a target=\"_blank\" href=https://colab.research.google.com/notebooks/data_table.ipynb>data table notebook</a>'\n",
              "            + ' to learn more about interactive tables.';\n",
              "          element.innerHTML = '';\n",
              "          dataTable['output_type'] = 'display_data';\n",
              "          await google.colab.output.renderOutput(dataTable, element);\n",
              "          const docLink = document.createElement('div');\n",
              "          docLink.innerHTML = docLinkHtml;\n",
              "          element.appendChild(docLink);\n",
              "        }\n",
              "      </script>\n",
              "    </div>\n",
              "  </div>\n",
              "  "
            ],
            "text/plain": [
              "          TOC (%)  Moisture (%)    Temp (C)  ...           b           c           d\n",
              "count  122.000000    122.000000  122.000000  ...  122.000000  122.000000  122.000000\n",
              "mean     0.173204      0.196710    0.213183  ...    0.829492    0.214009    0.288495\n",
              "std      0.295739      0.271314    0.142779  ...    0.209815    0.238653    0.156909\n",
              "min      0.000000      0.000000    0.000000  ...    0.000000    0.000000    0.000000\n",
              "25%      0.025724      0.000000    0.066667  ...    0.838393    0.059444    0.177186\n",
              "50%      0.056283      0.000000    0.258333  ...    0.907237    0.131683    0.249852\n",
              "75%      0.084662      0.408719    0.291667  ...    0.937307    0.243090    0.364751\n",
              "max      1.000000      1.000000    1.000000  ...    1.000000    1.000000    1.000000\n",
              "\n",
              "[8 rows x 7 columns]"
            ]
          },
          "metadata": {},
          "execution_count": 18
        }
      ],
      "source": [
        "df.describe()"
      ]
    },
    {
      "cell_type": "code",
      "execution_count": null,
      "metadata": {
        "id": "o34gpQJK4oKG",
        "colab": {
          "base_uri": "https://localhost:8080/",
          "height": 459
        },
        "outputId": "dd1b7347-7e6f-4b76-f297-5e8b63fb40af"
      },
      "outputs": [
        {
          "output_type": "execute_result",
          "data": {
            "text/plain": [
              "<matplotlib.axes._subplots.AxesSubplot at 0x7f5caa1ae610>"
            ]
          },
          "metadata": {},
          "execution_count": 19
        },
        {
          "output_type": "display_data",
          "data": {
            "image/png": "[encoded data removed]",
            "text/plain": [
              "<Figure size 600x400 with 2 Axes>"
            ]
          },
          "metadata": {
            "needs_background": "light"
          }
        }
      ],
      "source": [
        "sns.heatmap(df.corr(), cmap=\"pink\", annot=True)"
      ]
    },
    {
      "cell_type": "code",
      "source": [
        "df['Rock'].unique()"
      ],
      "metadata": {
        "id": "XJfmS0HqoY2I",
        "colab": {
          "base_uri": "https://localhost:8080/"
        },
        "outputId": "e372d2d9-1443-4bd4-ccfc-6f5557e4123f"
      },
      "execution_count": null,
      "outputs": [
        {
          "output_type": "execute_result",
          "data": {
            "text/plain": [
              "array(['Shale/Clay', 'Coal'], dtype=object)"
            ]
          },
          "metadata": {},
          "execution_count": 20
        }
      ]
    },
    {
      "cell_type": "markdown",
      "source": [
        "### One-hot encoding for the Gas and Rock columns:"
      ],
      "metadata": {
        "id": "Z1RDLU7Cemvc"
      }
    },
    {
      "cell_type": "code",
      "source": [
        "gas_dic = {'CH4': 0, 'CO2': 1}\n",
        "df.Gas = [gas_dic[item] for item in df.Gas]"
      ],
      "metadata": {
        "id": "yfXp3dVyqiOp"
      },
      "execution_count": null,
      "outputs": []
    },
    {
      "cell_type": "code",
      "source": [
        "rock_dic = {'Shale/Clay': 0, 'Coal': 1}\n",
        "df.Rock = [rock_dic[item] for item in df.Rock]"
      ],
      "metadata": {
        "id": "3R4407xVqZY4"
      },
      "execution_count": null,
      "outputs": []
    },
    {
      "cell_type": "code",
      "source": [
        "x = df.drop(['a', 'b', 'c', 'd'],axis=1)\n",
        "y = df[['a', 'b', 'c', 'd']]"
      ],
      "metadata": {
        "id": "2agsMThjgroE"
      },
      "execution_count": null,
      "outputs": []
    },
    {
      "cell_type": "markdown",
      "source": [
        "### Because we have only C1 here, I am going to drop the Gas column:"
      ],
      "metadata": {
        "id": "U5ZylNmxeLWA"
      }
    },
    {
      "cell_type": "code",
      "source": [
        "x = x.drop(['Gas'], axis=1)"
      ],
      "metadata": {
        "id": "3B8AuMCkixDo"
      },
      "execution_count": null,
      "outputs": []
    },
    {
      "cell_type": "code",
      "source": [
        "x.head()"
      ],
      "metadata": {
        "id": "eMcdY2TsbzK5",
        "colab": {
          "base_uri": "https://localhost:8080/",
          "height": 206
        },
        "outputId": "e7254ab8-b550-41a2-af6f-83e3696e8345"
      },
      "execution_count": null,
      "outputs": [
        {
          "output_type": "execute_result",
          "data": {
            "text/html": [
              "\n",
              "  <div id=\"df-fccaf221-4efb-44ce-9c82-c3ac1a96531a\">\n",
              "    <div class=\"colab-df-container\">\n",
              "      <div>\n",
              "<style scoped>\n",
              "    .dataframe tbody tr th:only-of-type {\n",
              "        vertical-align: middle;\n",
              "    }\n",
              "\n",
              "    .dataframe tbody tr th {\n",
              "        vertical-align: top;\n",
              "    }\n",
              "\n",
              "    .dataframe thead th {\n",
              "        text-align: right;\n",
              "    }\n",
              "</style>\n",
              "<table border=\"1\" class=\"dataframe\">\n",
              "  <thead>\n",
              "    <tr style=\"text-align: right;\">\n",
              "      <th></th>\n",
              "      <th>Rock</th>\n",
              "      <th>TOC (%)</th>\n",
              "      <th>Moisture (%)</th>\n",
              "      <th>Temp (C)</th>\n",
              "    </tr>\n",
              "  </thead>\n",
              "  <tbody>\n",
              "    <tr>\n",
              "      <th>0</th>\n",
              "      <td>0</td>\n",
              "      <td>0.003959</td>\n",
              "      <td>0.089918</td>\n",
              "      <td>0.166667</td>\n",
              "    </tr>\n",
              "    <tr>\n",
              "      <th>1</th>\n",
              "      <td>0</td>\n",
              "      <td>0.000000</td>\n",
              "      <td>0.205722</td>\n",
              "      <td>0.066667</td>\n",
              "    </tr>\n",
              "    <tr>\n",
              "      <th>2</th>\n",
              "      <td>0</td>\n",
              "      <td>0.035743</td>\n",
              "      <td>0.200272</td>\n",
              "      <td>0.066667</td>\n",
              "    </tr>\n",
              "    <tr>\n",
              "      <th>3</th>\n",
              "      <td>0</td>\n",
              "      <td>0.003280</td>\n",
              "      <td>0.254768</td>\n",
              "      <td>0.066667</td>\n",
              "    </tr>\n",
              "    <tr>\n",
              "      <th>4</th>\n",
              "      <td>0</td>\n",
              "      <td>0.007465</td>\n",
              "      <td>0.080381</td>\n",
              "      <td>0.066667</td>\n",
              "    </tr>\n",
              "  </tbody>\n",
              "</table>\n",
              "</div>\n",
              "      <button class=\"colab-df-convert\" onclick=\"convertToInteractive('df-fccaf221-4efb-44ce-9c82-c3ac1a96531a')\"\n",
              "              title=\"Convert this dataframe to an interactive table.\"\n",
              "              style=\"display:none;\">\n",
              "        \n",
              "  <svg xmlns=\"http://www.w3.org/2000/svg\" height=\"24px\"viewBox=\"0 0 24 24\"\n",
              "       width=\"24px\">\n",
              "    <path d=\"M0 0h24v24H0V0z\" fill=\"none\"/>\n",
              "    <path d=\"M18.56 5.44l.94 2.06.94-2.06 2.06-.94-2.06-.94-.94-2.06-.94 2.06-2.06.94zm-11 1L8.5 8.5l.94-2.06 2.06-.94-2.06-.94L8.5 2.5l-.94 2.06-2.06.94zm10 10l.94 2.06.94-2.06 2.06-.94-2.06-.94-.94-2.06-.94 2.06-2.06.94z\"/><path d=\"M17.41 7.96l-1.37-1.37c-.4-.4-.92-.59-1.43-.59-.52 0-1.04.2-1.43.59L10.3 9.45l-7.72 7.72c-.78.78-.78 2.05 0 2.83L4 21.41c.39.39.9.59 1.41.59.51 0 1.02-.2 1.41-.59l7.78-7.78 2.81-2.81c.8-.78.8-2.07 0-2.86zM5.41 20L4 18.59l7.72-7.72 1.47 1.35L5.41 20z\"/>\n",
              "  </svg>\n",
              "      </button>\n",
              "      \n",
              "  <style>\n",
              "    .colab-df-container {\n",
              "      display:flex;\n",
              "      flex-wrap:wrap;\n",
              "      gap: 12px;\n",
              "    }\n",
              "\n",
              "    .colab-df-convert {\n",
              "      background-color: #E8F0FE;\n",
              "      border: none;\n",
              "      border-radius: 50%;\n",
              "      cursor: pointer;\n",
              "      display: none;\n",
              "      fill: #1967D2;\n",
              "      height: 32px;\n",
              "      padding: 0 0 0 0;\n",
              "      width: 32px;\n",
              "    }\n",
              "\n",
              "    .colab-df-convert:hover {\n",
              "      background-color: #E2EBFA;\n",
              "      box-shadow: 0px 1px 2px rgba(60, 64, 67, 0.3), 0px 1px 3px 1px rgba(60, 64, 67, 0.15);\n",
              "      fill: #174EA6;\n",
              "    }\n",
              "\n",
              "    [theme=dark] .colab-df-convert {\n",
              "      background-color: #3B4455;\n",
              "      fill: #D2E3FC;\n",
              "    }\n",
              "\n",
              "    [theme=dark] .colab-df-convert:hover {\n",
              "      background-color: #434B5C;\n",
              "      box-shadow: 0px 1px 3px 1px rgba(0, 0, 0, 0.15);\n",
              "      filter: drop-shadow(0px 1px 2px rgba(0, 0, 0, 0.3));\n",
              "      fill: #FFFFFF;\n",
              "    }\n",
              "  </style>\n",
              "\n",
              "      <script>\n",
              "        const buttonEl =\n",
              "          document.querySelector('#df-fccaf221-4efb-44ce-9c82-c3ac1a96531a button.colab-df-convert');\n",
              "        buttonEl.style.display =\n",
              "          google.colab.kernel.accessAllowed ? 'block' : 'none';\n",
              "\n",
              "        async function convertToInteractive(key) {\n",
              "          const element = document.querySelector('#df-fccaf221-4efb-44ce-9c82-c3ac1a96531a');\n",
              "          const dataTable =\n",
              "            await google.colab.kernel.invokeFunction('convertToInteractive',\n",
              "                                                     [key], {});\n",
              "          if (!dataTable) return;\n",
              "\n",
              "          const docLinkHtml = 'Like what you see? Visit the ' +\n",
              "            '<a target=\"_blank\" href=https://colab.research.google.com/notebooks/data_table.ipynb>data table notebook</a>'\n",
              "            + ' to learn more about interactive tables.';\n",
              "          element.innerHTML = '';\n",
              "          dataTable['output_type'] = 'display_data';\n",
              "          await google.colab.output.renderOutput(dataTable, element);\n",
              "          const docLink = document.createElement('div');\n",
              "          docLink.innerHTML = docLinkHtml;\n",
              "          element.appendChild(docLink);\n",
              "        }\n",
              "      </script>\n",
              "    </div>\n",
              "  </div>\n",
              "  "
            ],
            "text/plain": [
              "   Rock   TOC (%)  Moisture (%)  Temp (C)\n",
              "0     0  0.003959      0.089918  0.166667\n",
              "1     0  0.000000      0.205722  0.066667\n",
              "2     0  0.035743      0.200272  0.066667\n",
              "3     0  0.003280      0.254768  0.066667\n",
              "4     0  0.007465      0.080381  0.066667"
            ]
          },
          "metadata": {},
          "execution_count": 25
        }
      ]
    },
    {
      "cell_type": "code",
      "source": [
        "x['Rock'].unique()"
      ],
      "metadata": {
        "id": "qNE9br-CgyLh",
        "colab": {
          "base_uri": "https://localhost:8080/"
        },
        "outputId": "bb57269c-8ab5-4288-9ae8-bbd3231f7da5"
      },
      "execution_count": null,
      "outputs": [
        {
          "output_type": "execute_result",
          "data": {
            "text/plain": [
              "array([0, 1])"
            ]
          },
          "metadata": {},
          "execution_count": 26
        }
      ]
    },
    {
      "cell_type": "code",
      "source": [
        "RAND_STAT = 200"
      ],
      "metadata": {
        "id": "qb56zwJswiqq"
      },
      "execution_count": null,
      "outputs": []
    },
    {
      "cell_type": "code",
      "source": [
        "#Create train and test dataset with an 80:20 split\n",
        "x_train, x_test, y_train, y_test = train_test_split(x, y, test_size=0.05, random_state=RAND_STAT)\n",
        "#Further divide training dataset into train and validation dataset with an 90:10 split\n",
        "x_train, x_val, y_train, y_val = train_test_split(x_train,y_train,test_size=0.1,random_state=RAND_STAT)\n",
        "#Check the sizes of all newly created datasets\n",
        "print(\"Shape of x_train:\",x_train.shape)\n",
        "print(\"Shape of x_val:\",x_val.shape)\n",
        "print(\"Shape of x_test:\",x_test.shape)\n",
        "print(\"Shape of y_train:\",y_train.shape)\n",
        "print(\"Shape of y_val:\",y_val.shape)\n",
        "print(\"Shape of y_test:\",y_test.shape)"
      ],
      "metadata": {
        "id": "ugtCRL-QwSzz",
        "colab": {
          "base_uri": "https://localhost:8080/"
        },
        "outputId": "6087156f-b605-430c-bcf8-8dec144f3260"
      },
      "execution_count": null,
      "outputs": [
        {
          "output_type": "stream",
          "name": "stdout",
          "text": [
            "Shape of x_train: (103, 4)\n",
            "Shape of x_val: (12, 4)\n",
            "Shape of x_test: (7, 4)\n",
            "Shape of y_train: (103, 4)\n",
            "Shape of y_val: (12, 4)\n",
            "Shape of y_test: (7, 4)\n"
          ]
        }
      ]
    },
    {
      "cell_type": "code",
      "source": [
        "x_train=np.asarray(x_train).astype(np.float32)\n",
        "y_train=np.asarray(y_train).astype(np.float32)\n",
        "x_val=np.asarray(x_val).astype(np.float32)\n",
        "y_val=np.asarray(y_val).astype(np.float32)"
      ],
      "metadata": {
        "id": "JiUvofKDwwp3"
      },
      "execution_count": null,
      "outputs": []
    },
    {
      "cell_type": "code",
      "execution_count": null,
      "metadata": {
        "id": "xrQb4Kg9wEXZ",
        "colab": {
          "base_uri": "https://localhost:8080/"
        },
        "outputId": "8bb21ab5-2c70-4579-d7ea-9e5b8d7fae9d"
      },
      "outputs": [
        {
          "output_type": "stream",
          "name": "stdout",
          "text": [
            "Epoch 1/50\n",
            "4/4 [==============================] - 2s 138ms/step - loss: 0.1244 - mean_absolute_error: 0.3860 - val_loss: 0.0879 - val_mean_absolute_error: 0.3684\n",
            "Epoch 2/50\n",
            "4/4 [==============================] - 0s 20ms/step - loss: 0.0860 - mean_absolute_error: 0.3818 - val_loss: 0.0567 - val_mean_absolute_error: 0.3901\n",
            "Epoch 3/50\n",
            "4/4 [==============================] - 0s 27ms/step - loss: 0.0604 - mean_absolute_error: 0.4018 - val_loss: 0.0464 - val_mean_absolute_error: 0.4061\n",
            "Epoch 4/50\n",
            "4/4 [==============================] - 0s 43ms/step - loss: 0.0508 - mean_absolute_error: 0.4117 - val_loss: 0.0392 - val_mean_absolute_error: 0.3896\n",
            "Epoch 5/50\n",
            "4/4 [==============================] - 0s 34ms/step - loss: 0.0448 - mean_absolute_error: 0.3908 - val_loss: 0.0320 - val_mean_absolute_error: 0.3413\n",
            "Epoch 6/50\n",
            "4/4 [==============================] - 0s 18ms/step - loss: 0.0416 - mean_absolute_error: 0.3509 - val_loss: 0.0315 - val_mean_absolute_error: 0.3135\n",
            "Epoch 7/50\n",
            "4/4 [==============================] - 0s 50ms/step - loss: 0.0428 - mean_absolute_error: 0.3343 - val_loss: 0.0311 - val_mean_absolute_error: 0.3136\n",
            "Epoch 8/50\n",
            "4/4 [==============================] - 0s 25ms/step - loss: 0.0419 - mean_absolute_error: 0.3429 - val_loss: 0.0307 - val_mean_absolute_error: 0.3362\n",
            "Epoch 9/50\n",
            "4/4 [==============================] - 0s 21ms/step - loss: 0.0412 - mean_absolute_error: 0.3660 - val_loss: 0.0315 - val_mean_absolute_error: 0.3532\n",
            "Epoch 10/50\n",
            "4/4 [==============================] - 0s 21ms/step - loss: 0.0414 - mean_absolute_error: 0.3773 - val_loss: 0.0310 - val_mean_absolute_error: 0.3446\n",
            "Epoch 11/50\n",
            "4/4 [==============================] - 0s 22ms/step - loss: 0.0410 - mean_absolute_error: 0.3610 - val_loss: 0.0303 - val_mean_absolute_error: 0.3266\n",
            "Epoch 12/50\n",
            "4/4 [==============================] - 0s 20ms/step - loss: 0.0409 - mean_absolute_error: 0.3465 - val_loss: 0.0303 - val_mean_absolute_error: 0.3258\n",
            "Epoch 13/50\n",
            "4/4 [==============================] - 0s 52ms/step - loss: 0.0407 - mean_absolute_error: 0.3479 - val_loss: 0.0305 - val_mean_absolute_error: 0.3312\n",
            "Epoch 14/50\n",
            "4/4 [==============================] - 0s 24ms/step - loss: 0.0407 - mean_absolute_error: 0.3551 - val_loss: 0.0308 - val_mean_absolute_error: 0.3370\n",
            "Epoch 15/50\n",
            "4/4 [==============================] - 0s 40ms/step - loss: 0.0406 - mean_absolute_error: 0.3560 - val_loss: 0.0306 - val_mean_absolute_error: 0.3326\n",
            "Epoch 16/50\n",
            "4/4 [==============================] - 0s 27ms/step - loss: 0.0405 - mean_absolute_error: 0.3505 - val_loss: 0.0305 - val_mean_absolute_error: 0.3274\n",
            "Epoch 17/50\n",
            "4/4 [==============================] - 0s 21ms/step - loss: 0.0403 - mean_absolute_error: 0.3479 - val_loss: 0.0308 - val_mean_absolute_error: 0.3314\n",
            "Epoch 18/50\n",
            "4/4 [==============================] - 0s 20ms/step - loss: 0.0404 - mean_absolute_error: 0.3517 - val_loss: 0.0309 - val_mean_absolute_error: 0.3325\n",
            "Epoch 19/50\n",
            "4/4 [==============================] - 0s 31ms/step - loss: 0.0404 - mean_absolute_error: 0.3503 - val_loss: 0.0303 - val_mean_absolute_error: 0.3195\n",
            "Epoch 20/50\n",
            "4/4 [==============================] - 0s 21ms/step - loss: 0.0401 - mean_absolute_error: 0.3360 - val_loss: 0.0297 - val_mean_absolute_error: 0.3057\n",
            "Epoch 21/50\n",
            "4/4 [==============================] - 0s 17ms/step - loss: 0.0400 - mean_absolute_error: 0.3284 - val_loss: 0.0298 - val_mean_absolute_error: 0.3114\n",
            "Epoch 22/50\n",
            "4/4 [==============================] - 0s 22ms/step - loss: 0.0399 - mean_absolute_error: 0.3318 - val_loss: 0.0299 - val_mean_absolute_error: 0.3131\n",
            "Epoch 23/50\n",
            "4/4 [==============================] - 0s 21ms/step - loss: 0.0398 - mean_absolute_error: 0.3292 - val_loss: 0.0297 - val_mean_absolute_error: 0.3092\n",
            "Epoch 24/50\n",
            "4/4 [==============================] - 0s 21ms/step - loss: 0.0398 - mean_absolute_error: 0.3280 - val_loss: 0.0298 - val_mean_absolute_error: 0.3143\n",
            "Epoch 25/50\n",
            "4/4 [==============================] - 0s 18ms/step - loss: 0.0397 - mean_absolute_error: 0.3328 - val_loss: 0.0299 - val_mean_absolute_error: 0.3179\n",
            "Epoch 26/50\n",
            "4/4 [==============================] - 0s 24ms/step - loss: 0.0398 - mean_absolute_error: 0.3392 - val_loss: 0.0301 - val_mean_absolute_error: 0.3197\n",
            "Epoch 27/50\n",
            "4/4 [==============================] - 0s 21ms/step - loss: 0.0397 - mean_absolute_error: 0.3341 - val_loss: 0.0296 - val_mean_absolute_error: 0.3072\n",
            "Epoch 28/50\n",
            "4/4 [==============================] - 0s 21ms/step - loss: 0.0396 - mean_absolute_error: 0.3286 - val_loss: 0.0296 - val_mean_absolute_error: 0.3096\n",
            "Epoch 29/50\n",
            "4/4 [==============================] - 0s 25ms/step - loss: 0.0395 - mean_absolute_error: 0.3276 - val_loss: 0.0293 - val_mean_absolute_error: 0.3071\n",
            "Epoch 30/50\n",
            "4/4 [==============================] - 0s 40ms/step - loss: 0.0394 - mean_absolute_error: 0.3250 - val_loss: 0.0294 - val_mean_absolute_error: 0.3110\n",
            "Epoch 31/50\n",
            "4/4 [==============================] - 0s 46ms/step - loss: 0.0394 - mean_absolute_error: 0.3284 - val_loss: 0.0297 - val_mean_absolute_error: 0.3189\n",
            "Epoch 32/50\n",
            "4/4 [==============================] - 0s 18ms/step - loss: 0.0394 - mean_absolute_error: 0.3331 - val_loss: 0.0296 - val_mean_absolute_error: 0.3179\n",
            "Epoch 33/50\n",
            "4/4 [==============================] - 0s 18ms/step - loss: 0.0394 - mean_absolute_error: 0.3330 - val_loss: 0.0292 - val_mean_absolute_error: 0.3081\n",
            "Epoch 34/50\n",
            "4/4 [==============================] - 0s 35ms/step - loss: 0.0393 - mean_absolute_error: 0.3264 - val_loss: 0.0289 - val_mean_absolute_error: 0.3024\n",
            "Epoch 35/50\n",
            "4/4 [==============================] - 0s 43ms/step - loss: 0.0393 - mean_absolute_error: 0.3271 - val_loss: 0.0292 - val_mean_absolute_error: 0.3134\n",
            "Epoch 36/50\n",
            "4/4 [==============================] - 0s 38ms/step - loss: 0.0392 - mean_absolute_error: 0.3330 - val_loss: 0.0292 - val_mean_absolute_error: 0.3149\n",
            "Epoch 37/50\n",
            "4/4 [==============================] - 0s 21ms/step - loss: 0.0391 - mean_absolute_error: 0.3289 - val_loss: 0.0288 - val_mean_absolute_error: 0.3066\n",
            "Epoch 38/50\n",
            "4/4 [==============================] - 0s 30ms/step - loss: 0.0391 - mean_absolute_error: 0.3210 - val_loss: 0.0289 - val_mean_absolute_error: 0.3112\n",
            "Epoch 39/50\n",
            "4/4 [==============================] - 0s 21ms/step - loss: 0.0390 - mean_absolute_error: 0.3318 - val_loss: 0.0302 - val_mean_absolute_error: 0.3329\n",
            "Epoch 40/50\n",
            "4/4 [==============================] - 0s 33ms/step - loss: 0.0399 - mean_absolute_error: 0.3510 - val_loss: 0.0296 - val_mean_absolute_error: 0.3241\n",
            "Epoch 41/50\n",
            "4/4 [==============================] - 0s 24ms/step - loss: 0.0393 - mean_absolute_error: 0.3340 - val_loss: 0.0285 - val_mean_absolute_error: 0.2946\n",
            "Epoch 42/50\n",
            "4/4 [==============================] - 0s 57ms/step - loss: 0.0397 - mean_absolute_error: 0.3173 - val_loss: 0.0284 - val_mean_absolute_error: 0.2920\n",
            "Epoch 43/50\n",
            "4/4 [==============================] - 0s 32ms/step - loss: 0.0394 - mean_absolute_error: 0.3195 - val_loss: 0.0285 - val_mean_absolute_error: 0.3014\n",
            "Epoch 44/50\n",
            "4/4 [==============================] - 0s 30ms/step - loss: 0.0391 - mean_absolute_error: 0.3296 - val_loss: 0.0287 - val_mean_absolute_error: 0.3100\n",
            "Epoch 45/50\n",
            "4/4 [==============================] - 0s 21ms/step - loss: 0.0390 - mean_absolute_error: 0.3321 - val_loss: 0.0287 - val_mean_absolute_error: 0.3102\n",
            "Epoch 46/50\n",
            "4/4 [==============================] - 0s 18ms/step - loss: 0.0388 - mean_absolute_error: 0.3291 - val_loss: 0.0285 - val_mean_absolute_error: 0.3109\n",
            "Epoch 47/50\n",
            "4/4 [==============================] - 0s 22ms/step - loss: 0.0389 - mean_absolute_error: 0.3247 - val_loss: 0.0284 - val_mean_absolute_error: 0.3119\n",
            "Epoch 48/50\n",
            "4/4 [==============================] - 0s 28ms/step - loss: 0.0388 - mean_absolute_error: 0.3289 - val_loss: 0.0288 - val_mean_absolute_error: 0.3207\n",
            "Epoch 49/50\n",
            "4/4 [==============================] - 0s 23ms/step - loss: 0.0388 - mean_absolute_error: 0.3355 - val_loss: 0.0285 - val_mean_absolute_error: 0.3178\n",
            "Epoch 50/50\n",
            "4/4 [==============================] - 0s 58ms/step - loss: 0.0386 - mean_absolute_error: 0.3332 - val_loss: 0.0282 - val_mean_absolute_error: 0.3107\n"
          ]
        },
        {
          "output_type": "execute_result",
          "data": {
            "text/plain": [
              "<keras.callbacks.History at 0x7f5ca6ed3c50>"
            ]
          },
          "metadata": {},
          "execution_count": 30
        }
      ],
      "source": [
        "history = History()\n",
        "#Defining Functional model\n",
        "input_layer = Input(shape=(4,))\n",
        "Layer_1 = Dense(500,activation=\"relu\")(input_layer)\n",
        "Layer_2 = Dense(200,activation=\"relu\")(Layer_1)\n",
        "Layer_3 = Dense(40,activation=\"relu\")(Layer_2)\n",
        "Layer_4 = Dense(10,activation=\"tanh\")(Layer_3)\n",
        "output_layer = Dense(4,activation=\"tanh\")(Layer_4)\n",
        "model = Model(inputs=input_layer, outputs=output_layer)\n",
        "#Configure the model\n",
        "keras.optimizers.Adam(lr=0.1, beta_1=0.9, beta_2=0.999, epsilon=None, decay=0.0, amsgrad=False)\n",
        "model.compile(optimizer='Adam',loss=\"mean_squared_logarithmic_error\",metrics=[\"mean_absolute_error\"])\n",
        "#Train the model\n",
        "model.fit(x_train,y_train, validation_data=(x_val,y_val),epochs=50,batch_size=32,callbacks=[history])"
      ]
    },
    {
      "cell_type": "code",
      "source": [
        "x_test=np.asarray(x_test).astype(np.float32)\n",
        "y_test=np.asarray(y_test).astype(np.float32)"
      ],
      "metadata": {
        "id": "7TU2gSFx44do"
      },
      "execution_count": null,
      "outputs": []
    },
    {
      "cell_type": "code",
      "execution_count": null,
      "metadata": {
        "id": "4Sdo5mB60qx0",
        "colab": {
          "base_uri": "https://localhost:8080/"
        },
        "outputId": "de2a3b3b-fc77-4f2d-ea08-9ec52a2d2feb"
      },
      "outputs": [
        {
          "output_type": "stream",
          "name": "stdout",
          "text": [
            "1/1 [==============================] - 0s 39ms/step - loss: 0.0550 - mean_absolute_error: 0.4092\n",
            "Metric  loss : 0.05\n",
            "Metric  mean_absolute_error : 0.41\n"
          ]
        }
      ],
      "source": [
        "result = model.evaluate(x_test,y_test)\n",
        "for i in range(len(model.metrics_names)):\n",
        "    print(\"Metric \",model.metrics_names[i],\":\",str(round(result[i],2)))"
      ]
    },
    {
      "cell_type": "code",
      "execution_count": null,
      "metadata": {
        "id": "b0J8NKIP4rhs",
        "colab": {
          "base_uri": "https://localhost:8080/",
          "height": 404
        },
        "outputId": "e63cd2e0-f122-490c-de70-3aa3e4dedaba"
      },
      "outputs": [
        {
          "output_type": "display_data",
          "data": {
            "image/png": "[encoded data removed]",
            "text/plain": [
              "<Figure size 600x400 with 1 Axes>"
            ]
          },
          "metadata": {
            "needs_background": "light"
          }
        }
      ],
      "source": [
        "plt.plot(history.history['loss'])\n",
        "plt.plot(history.history['val_loss'])\n",
        "plt.title(\"Model's Training & Validation loss across epochs\")\n",
        "plt.ylabel('Loss')\n",
        "plt.xlabel('Epochs')\n",
        "plt.legend(['Train', 'Validation'], loc='upper right')\n",
        "plt.show()"
      ]
    },
    {
      "cell_type": "code",
      "execution_count": null,
      "metadata": {
        "id": "FHsl6ZcTzl4G"
      },
      "outputs": [],
      "source": [
        "y_val_pred = model.predict(x_val)\n",
        "y_test_pred = model.predict(x_test)"
      ]
    },
    {
      "cell_type": "code",
      "source": [
        "def linear_model_results(axes_num, y_actual, y_prediction, title):\n",
        "    linear_model = LinearRegression().fit(y_actual.reshape(-1, 1), y_prediction.reshape(-1, 1))\n",
        "    r_sq = linear_model.score(y_actual.reshape(-1, 1), y_prediction.reshape(-1, 1))\n",
        "    print('coefficient of determination:', r_sq)\n",
        "    print('coef_:', linear_model.coef_)\n",
        "    print('intercept:', linear_model.intercept_)\n",
        "    \n",
        "    axes[axes_num].plot( y_actual,  linear_model.coef_[0][0] * y_actual + linear_model.intercept_[0],\n",
        "                linestyle='--', color = 'darkblue')  \n",
        "    axes[axes_num].scatter( y_actual, y_prediction,\n",
        "                            linewidths=2, edgecolor='black', color = 'lightblue') \n",
        "    axes[axes_num].set_xlabel('Actual')\n",
        "    axes[axes_num].set_ylabel(title)"
      ],
      "metadata": {
        "id": "eXhMKdWY52EW"
      },
      "execution_count": null,
      "outputs": []
    },
    {
      "cell_type": "code",
      "execution_count": null,
      "metadata": {
        "id": "5lp1DlYdRj3A",
        "colab": {
          "base_uri": "https://localhost:8080/",
          "height": 425
        },
        "outputId": "4d63bdc4-8c89-4ae7-bee2-3fe743fb7ed7"
      },
      "outputs": [
        {
          "output_type": "stream",
          "name": "stdout",
          "text": [
            "coefficient of determination: 0.04312283613880785\n",
            "coef_: [[0.07542239]]\n",
            "intercept: [-0.19384348]\n"
          ]
        },
        {
          "output_type": "display_data",
          "data": {
            "image/png": "[encoded data removed]",
            "text/plain": [
              "<Figure size 1200x400 with 3 Axes>"
            ]
          },
          "metadata": {
            "needs_background": "light"
          }
        }
      ],
      "source": [
        "#ACTUAL vs PREDICTED for ANN\n",
        "\n",
        "fig, axes = plt.subplots(1, 3, figsize=(12,4))\n",
        "fig.tight_layout(pad=3.0)\n",
        "\n",
        "linear_model_results(0, y_test[:,0], y_test_pred[:,0], 'a coefficient')"
      ]
    },
    {
      "cell_type": "code",
      "source": [
        "#ACTUAL vs PREDICTED for ANN\n",
        "\n",
        "fig, axes = plt.subplots(1, 3, figsize=(12,4))\n",
        "fig.tight_layout(pad=3.0)\n",
        "\n",
        "linear_model_results(0, y_test[:,1], y_test_pred[:,1], 'b coefficient')"
      ],
      "metadata": {
        "colab": {
          "base_uri": "https://localhost:8080/",
          "height": 425
        },
        "id": "a1fgzOZI781G",
        "outputId": "23a30982-6bef-446e-ac4e-3ef11990b44a"
      },
      "execution_count": null,
      "outputs": [
        {
          "output_type": "stream",
          "name": "stdout",
          "text": [
            "coefficient of determination: 0.012260269875063234\n",
            "coef_: [[-0.03463084]]\n",
            "intercept: [0.8420952]\n"
          ]
        },
        {
          "output_type": "display_data",
          "data": {
            "image/png": "[encoded data removed]",
            "text/plain": [
              "<Figure size 1200x400 with 3 Axes>"
            ]
          },
          "metadata": {
            "needs_background": "light"
          }
        }
      ]
    },
    {
      "cell_type": "code",
      "source": [
        "#ACTUAL vs PREDICTED for ANN\n",
        "\n",
        "fig, axes = plt.subplots(1, 3, figsize=(12,4))\n",
        "fig.tight_layout(pad=3.0)\n",
        "\n",
        "linear_model_results(0, y_test[:,2], y_test_pred[:,2], 'c coefficient')"
      ],
      "metadata": {
        "colab": {
          "base_uri": "https://localhost:8080/",
          "height": 425
        },
        "id": "J11jt7FF79ce",
        "outputId": "2353d5d8-1593-4ffa-d2ac-4c4b5aafd25b"
      },
      "execution_count": null,
      "outputs": [
        {
          "output_type": "stream",
          "name": "stdout",
          "text": [
            "coefficient of determination: 0.07346596167204744\n",
            "coef_: [[0.08259711]]\n",
            "intercept: [0.1816833]\n"
          ]
        },
        {
          "output_type": "display_data",
          "data": {
            "image/png": "[encoded data removed]",
            "text/plain": [
              "<Figure size 1200x400 with 3 Axes>"
            ]
          },
          "metadata": {
            "needs_background": "light"
          }
        }
      ]
    },
    {
      "cell_type": "code",
      "source": [
        "#ACTUAL vs PREDICTED for ANN\n",
        "\n",
        "fig, axes = plt.subplots(1, 3, figsize=(12,4))\n",
        "fig.tight_layout(pad=3.0)\n",
        "\n",
        "linear_model_results(0, y_test[:,3], y_test_pred[:,3], 'd coefficient')"
      ],
      "metadata": {
        "colab": {
          "base_uri": "https://localhost:8080/",
          "height": 425
        },
        "id": "R6948cRf798u",
        "outputId": "b4e63882-2bf6-4cd5-d684-3830622a0a89"
      },
      "execution_count": null,
      "outputs": [
        {
          "output_type": "stream",
          "name": "stdout",
          "text": [
            "coefficient of determination: 0.2032893401922128\n",
            "coef_: [[-0.20357089]]\n",
            "intercept: [-0.3629722]\n"
          ]
        },
        {
          "output_type": "display_data",
          "data": {
            "image/png": "[encoded data removed]",
            "text/plain": [
              "<Figure size 1200x400 with 3 Axes>"
            ]
          },
          "metadata": {
            "needs_background": "light"
          }
        }
      ]
    },
    {
      "cell_type": "code",
      "execution_count": null,
      "metadata": {
        "id": "eIsEvRKFSfK-",
        "colab": {
          "base_uri": "https://localhost:8080/",
          "height": 269
        },
        "outputId": "a5cb27fb-197d-4163-b734-814cb2c46ae4"
      },
      "outputs": [
        {
          "output_type": "execute_result",
          "data": {
            "text/html": [
              "\n",
              "  <div id=\"df-cb2301f7-ab74-4fb8-b550-0632b93e57f6\">\n",
              "    <div class=\"colab-df-container\">\n",
              "      <div>\n",
              "<style scoped>\n",
              "    .dataframe tbody tr th:only-of-type {\n",
              "        vertical-align: middle;\n",
              "    }\n",
              "\n",
              "    .dataframe tbody tr th {\n",
              "        vertical-align: top;\n",
              "    }\n",
              "\n",
              "    .dataframe thead th {\n",
              "        text-align: right;\n",
              "    }\n",
              "</style>\n",
              "<table border=\"1\" class=\"dataframe\">\n",
              "  <thead>\n",
              "    <tr style=\"text-align: right;\">\n",
              "      <th></th>\n",
              "      <th>0</th>\n",
              "      <th>1</th>\n",
              "      <th>2</th>\n",
              "      <th>3</th>\n",
              "    </tr>\n",
              "  </thead>\n",
              "  <tbody>\n",
              "    <tr>\n",
              "      <th>0</th>\n",
              "      <td>128.060715</td>\n",
              "      <td>100.702881</td>\n",
              "      <td>72.840881</td>\n",
              "      <td>196.255646</td>\n",
              "    </tr>\n",
              "    <tr>\n",
              "      <th>1</th>\n",
              "      <td>127.823669</td>\n",
              "      <td>88.493958</td>\n",
              "      <td>71.416229</td>\n",
              "      <td>219.813675</td>\n",
              "    </tr>\n",
              "    <tr>\n",
              "      <th>2</th>\n",
              "      <td>227.378113</td>\n",
              "      <td>3.946606</td>\n",
              "      <td>16.933357</td>\n",
              "      <td>235.592117</td>\n",
              "    </tr>\n",
              "    <tr>\n",
              "      <th>3</th>\n",
              "      <td>134.162582</td>\n",
              "      <td>48.916111</td>\n",
              "      <td>30.895403</td>\n",
              "      <td>255.425476</td>\n",
              "    </tr>\n",
              "    <tr>\n",
              "      <th>4</th>\n",
              "      <td>314.470825</td>\n",
              "      <td>8.558509</td>\n",
              "      <td>76.059395</td>\n",
              "      <td>276.069885</td>\n",
              "    </tr>\n",
              "    <tr>\n",
              "      <th>5</th>\n",
              "      <td>250.101532</td>\n",
              "      <td>16.665215</td>\n",
              "      <td>1004.557129</td>\n",
              "      <td>335.475372</td>\n",
              "    </tr>\n",
              "    <tr>\n",
              "      <th>6</th>\n",
              "      <td>370.526245</td>\n",
              "      <td>26.986214</td>\n",
              "      <td>202.487076</td>\n",
              "      <td>281.232422</td>\n",
              "    </tr>\n",
              "  </tbody>\n",
              "</table>\n",
              "</div>\n",
              "      <button class=\"colab-df-convert\" onclick=\"convertToInteractive('df-cb2301f7-ab74-4fb8-b550-0632b93e57f6')\"\n",
              "              title=\"Convert this dataframe to an interactive table.\"\n",
              "              style=\"display:none;\">\n",
              "        \n",
              "  <svg xmlns=\"http://www.w3.org/2000/svg\" height=\"24px\"viewBox=\"0 0 24 24\"\n",
              "       width=\"24px\">\n",
              "    <path d=\"M0 0h24v24H0V0z\" fill=\"none\"/>\n",
              "    <path d=\"M18.56 5.44l.94 2.06.94-2.06 2.06-.94-2.06-.94-.94-2.06-.94 2.06-2.06.94zm-11 1L8.5 8.5l.94-2.06 2.06-.94-2.06-.94L8.5 2.5l-.94 2.06-2.06.94zm10 10l.94 2.06.94-2.06 2.06-.94-2.06-.94-.94-2.06-.94 2.06-2.06.94z\"/><path d=\"M17.41 7.96l-1.37-1.37c-.4-.4-.92-.59-1.43-.59-.52 0-1.04.2-1.43.59L10.3 9.45l-7.72 7.72c-.78.78-.78 2.05 0 2.83L4 21.41c.39.39.9.59 1.41.59.51 0 1.02-.2 1.41-.59l7.78-7.78 2.81-2.81c.8-.78.8-2.07 0-2.86zM5.41 20L4 18.59l7.72-7.72 1.47 1.35L5.41 20z\"/>\n",
              "  </svg>\n",
              "      </button>\n",
              "      \n",
              "  <style>\n",
              "    .colab-df-container {\n",
              "      display:flex;\n",
              "      flex-wrap:wrap;\n",
              "      gap: 12px;\n",
              "    }\n",
              "\n",
              "    .colab-df-convert {\n",
              "      background-color: #E8F0FE;\n",
              "      border: none;\n",
              "      border-radius: 50%;\n",
              "      cursor: pointer;\n",
              "      display: none;\n",
              "      fill: #1967D2;\n",
              "      height: 32px;\n",
              "      padding: 0 0 0 0;\n",
              "      width: 32px;\n",
              "    }\n",
              "\n",
              "    .colab-df-convert:hover {\n",
              "      background-color: #E2EBFA;\n",
              "      box-shadow: 0px 1px 2px rgba(60, 64, 67, 0.3), 0px 1px 3px 1px rgba(60, 64, 67, 0.15);\n",
              "      fill: #174EA6;\n",
              "    }\n",
              "\n",
              "    [theme=dark] .colab-df-convert {\n",
              "      background-color: #3B4455;\n",
              "      fill: #D2E3FC;\n",
              "    }\n",
              "\n",
              "    [theme=dark] .colab-df-convert:hover {\n",
              "      background-color: #434B5C;\n",
              "      box-shadow: 0px 1px 3px 1px rgba(0, 0, 0, 0.15);\n",
              "      filter: drop-shadow(0px 1px 2px rgba(0, 0, 0, 0.3));\n",
              "      fill: #FFFFFF;\n",
              "    }\n",
              "  </style>\n",
              "\n",
              "      <script>\n",
              "        const buttonEl =\n",
              "          document.querySelector('#df-cb2301f7-ab74-4fb8-b550-0632b93e57f6 button.colab-df-convert');\n",
              "        buttonEl.style.display =\n",
              "          google.colab.kernel.accessAllowed ? 'block' : 'none';\n",
              "\n",
              "        async function convertToInteractive(key) {\n",
              "          const element = document.querySelector('#df-cb2301f7-ab74-4fb8-b550-0632b93e57f6');\n",
              "          const dataTable =\n",
              "            await google.colab.kernel.invokeFunction('convertToInteractive',\n",
              "                                                     [key], {});\n",
              "          if (!dataTable) return;\n",
              "\n",
              "          const docLinkHtml = 'Like what you see? Visit the ' +\n",
              "            '<a target=\"_blank\" href=https://colab.research.google.com/notebooks/data_table.ipynb>data table notebook</a>'\n",
              "            + ' to learn more about interactive tables.';\n",
              "          element.innerHTML = '';\n",
              "          dataTable['output_type'] = 'display_data';\n",
              "          await google.colab.output.renderOutput(dataTable, element);\n",
              "          const docLink = document.createElement('div');\n",
              "          docLink.innerHTML = docLinkHtml;\n",
              "          element.appendChild(docLink);\n",
              "        }\n",
              "      </script>\n",
              "    </div>\n",
              "  </div>\n",
              "  "
            ],
            "text/plain": [
              "            0           1            2           3\n",
              "0  128.060715  100.702881    72.840881  196.255646\n",
              "1  127.823669   88.493958    71.416229  219.813675\n",
              "2  227.378113    3.946606    16.933357  235.592117\n",
              "3  134.162582   48.916111    30.895403  255.425476\n",
              "4  314.470825    8.558509    76.059395  276.069885\n",
              "5  250.101532   16.665215  1004.557129  335.475372\n",
              "6  370.526245   26.986214   202.487076  281.232422"
            ]
          },
          "metadata": {},
          "execution_count": 40
        }
      ],
      "source": [
        "pd.DataFrame(abs(y_test_pred - y_test)*100/y_test)"
      ]
    },
    {
      "cell_type": "code",
      "source": [
        "x_test = pd.DataFrame(x_test)\n",
        "y_test = pd.DataFrame(y_test)\n",
        "y_test_pred = pd.DataFrame(y_test_pred)"
      ],
      "metadata": {
        "id": "qMIFnHGt9kkg"
      },
      "execution_count": null,
      "outputs": []
    },
    {
      "cell_type": "code",
      "source": [
        "x_test.head()"
      ],
      "metadata": {
        "id": "11doCopa-gTq",
        "colab": {
          "base_uri": "https://localhost:8080/",
          "height": 206
        },
        "outputId": "feb0626c-93ec-4963-d358-0ddab059fc11"
      },
      "execution_count": null,
      "outputs": [
        {
          "output_type": "execute_result",
          "data": {
            "text/html": [
              "\n",
              "  <div id=\"df-3b1d44c2-3da6-4fc2-a82a-d169cd944fcc\">\n",
              "    <div class=\"colab-df-container\">\n",
              "      <div>\n",
              "<style scoped>\n",
              "    .dataframe tbody tr th:only-of-type {\n",
              "        vertical-align: middle;\n",
              "    }\n",
              "\n",
              "    .dataframe tbody tr th {\n",
              "        vertical-align: top;\n",
              "    }\n",
              "\n",
              "    .dataframe thead th {\n",
              "        text-align: right;\n",
              "    }\n",
              "</style>\n",
              "<table border=\"1\" class=\"dataframe\">\n",
              "  <thead>\n",
              "    <tr style=\"text-align: right;\">\n",
              "      <th></th>\n",
              "      <th>0</th>\n",
              "      <th>1</th>\n",
              "      <th>2</th>\n",
              "      <th>3</th>\n",
              "    </tr>\n",
              "  </thead>\n",
              "  <tbody>\n",
              "    <tr>\n",
              "      <th>0</th>\n",
              "      <td>0.0</td>\n",
              "      <td>0.055735</td>\n",
              "      <td>0.000000</td>\n",
              "      <td>0.166667</td>\n",
              "    </tr>\n",
              "    <tr>\n",
              "      <th>1</th>\n",
              "      <td>0.0</td>\n",
              "      <td>0.055386</td>\n",
              "      <td>0.000000</td>\n",
              "      <td>0.170000</td>\n",
              "    </tr>\n",
              "    <tr>\n",
              "      <th>2</th>\n",
              "      <td>0.0</td>\n",
              "      <td>0.049881</td>\n",
              "      <td>0.000000</td>\n",
              "      <td>0.291667</td>\n",
              "    </tr>\n",
              "    <tr>\n",
              "      <th>3</th>\n",
              "      <td>0.0</td>\n",
              "      <td>0.057233</td>\n",
              "      <td>0.408719</td>\n",
              "      <td>0.333333</td>\n",
              "    </tr>\n",
              "    <tr>\n",
              "      <th>4</th>\n",
              "      <td>1.0</td>\n",
              "      <td>0.702522</td>\n",
              "      <td>0.000000</td>\n",
              "      <td>0.258333</td>\n",
              "    </tr>\n",
              "  </tbody>\n",
              "</table>\n",
              "</div>\n",
              "      <button class=\"colab-df-convert\" onclick=\"convertToInteractive('df-3b1d44c2-3da6-4fc2-a82a-d169cd944fcc')\"\n",
              "              title=\"Convert this dataframe to an interactive table.\"\n",
              "              style=\"display:none;\">\n",
              "        \n",
              "  <svg xmlns=\"http://www.w3.org/2000/svg\" height=\"24px\"viewBox=\"0 0 24 24\"\n",
              "       width=\"24px\">\n",
              "    <path d=\"M0 0h24v24H0V0z\" fill=\"none\"/>\n",
              "    <path d=\"M18.56 5.44l.94 2.06.94-2.06 2.06-.94-2.06-.94-.94-2.06-.94 2.06-2.06.94zm-11 1L8.5 8.5l.94-2.06 2.06-.94-2.06-.94L8.5 2.5l-.94 2.06-2.06.94zm10 10l.94 2.06.94-2.06 2.06-.94-2.06-.94-.94-2.06-.94 2.06-2.06.94z\"/><path d=\"M17.41 7.96l-1.37-1.37c-.4-.4-.92-.59-1.43-.59-.52 0-1.04.2-1.43.59L10.3 9.45l-7.72 7.72c-.78.78-.78 2.05 0 2.83L4 21.41c.39.39.9.59 1.41.59.51 0 1.02-.2 1.41-.59l7.78-7.78 2.81-2.81c.8-.78.8-2.07 0-2.86zM5.41 20L4 18.59l7.72-7.72 1.47 1.35L5.41 20z\"/>\n",
              "  </svg>\n",
              "      </button>\n",
              "      \n",
              "  <style>\n",
              "    .colab-df-container {\n",
              "      display:flex;\n",
              "      flex-wrap:wrap;\n",
              "      gap: 12px;\n",
              "    }\n",
              "\n",
              "    .colab-df-convert {\n",
              "      background-color: #E8F0FE;\n",
              "      border: none;\n",
              "      border-radius: 50%;\n",
              "      cursor: pointer;\n",
              "      display: none;\n",
              "      fill: #1967D2;\n",
              "      height: 32px;\n",
              "      padding: 0 0 0 0;\n",
              "      width: 32px;\n",
              "    }\n",
              "\n",
              "    .colab-df-convert:hover {\n",
              "      background-color: #E2EBFA;\n",
              "      box-shadow: 0px 1px 2px rgba(60, 64, 67, 0.3), 0px 1px 3px 1px rgba(60, 64, 67, 0.15);\n",
              "      fill: #174EA6;\n",
              "    }\n",
              "\n",
              "    [theme=dark] .colab-df-convert {\n",
              "      background-color: #3B4455;\n",
              "      fill: #D2E3FC;\n",
              "    }\n",
              "\n",
              "    [theme=dark] .colab-df-convert:hover {\n",
              "      background-color: #434B5C;\n",
              "      box-shadow: 0px 1px 3px 1px rgba(0, 0, 0, 0.15);\n",
              "      filter: drop-shadow(0px 1px 2px rgba(0, 0, 0, 0.3));\n",
              "      fill: #FFFFFF;\n",
              "    }\n",
              "  </style>\n",
              "\n",
              "      <script>\n",
              "        const buttonEl =\n",
              "          document.querySelector('#df-3b1d44c2-3da6-4fc2-a82a-d169cd944fcc button.colab-df-convert');\n",
              "        buttonEl.style.display =\n",
              "          google.colab.kernel.accessAllowed ? 'block' : 'none';\n",
              "\n",
              "        async function convertToInteractive(key) {\n",
              "          const element = document.querySelector('#df-3b1d44c2-3da6-4fc2-a82a-d169cd944fcc');\n",
              "          const dataTable =\n",
              "            await google.colab.kernel.invokeFunction('convertToInteractive',\n",
              "                                                     [key], {});\n",
              "          if (!dataTable) return;\n",
              "\n",
              "          const docLinkHtml = 'Like what you see? Visit the ' +\n",
              "            '<a target=\"_blank\" href=https://colab.research.google.com/notebooks/data_table.ipynb>data table notebook</a>'\n",
              "            + ' to learn more about interactive tables.';\n",
              "          element.innerHTML = '';\n",
              "          dataTable['output_type'] = 'display_data';\n",
              "          await google.colab.output.renderOutput(dataTable, element);\n",
              "          const docLink = document.createElement('div');\n",
              "          docLink.innerHTML = docLinkHtml;\n",
              "          element.appendChild(docLink);\n",
              "        }\n",
              "      </script>\n",
              "    </div>\n",
              "  </div>\n",
              "  "
            ],
            "text/plain": [
              "     0         1         2         3\n",
              "0  0.0  0.055735  0.000000  0.166667\n",
              "1  0.0  0.055386  0.000000  0.170000\n",
              "2  0.0  0.049881  0.000000  0.291667\n",
              "3  0.0  0.057233  0.408719  0.333333\n",
              "4  1.0  0.702522  0.000000  0.258333"
            ]
          },
          "metadata": {},
          "execution_count": 42
        }
      ]
    },
    {
      "cell_type": "code",
      "source": [
        "y_test.head()"
      ],
      "metadata": {
        "id": "2jq-APhj-mWJ",
        "colab": {
          "base_uri": "https://localhost:8080/",
          "height": 206
        },
        "outputId": "d6655a61-677a-4d57-937b-ceb941967e57"
      },
      "execution_count": null,
      "outputs": [
        {
          "output_type": "execute_result",
          "data": {
            "text/html": [
              "\n",
              "  <div id=\"df-88e8d1d7-1945-468a-a3c4-5fa0fc48b372\">\n",
              "    <div class=\"colab-df-container\">\n",
              "      <div>\n",
              "<style scoped>\n",
              "    .dataframe tbody tr th:only-of-type {\n",
              "        vertical-align: middle;\n",
              "    }\n",
              "\n",
              "    .dataframe tbody tr th {\n",
              "        vertical-align: top;\n",
              "    }\n",
              "\n",
              "    .dataframe thead th {\n",
              "        text-align: right;\n",
              "    }\n",
              "</style>\n",
              "<table border=\"1\" class=\"dataframe\">\n",
              "  <thead>\n",
              "    <tr style=\"text-align: right;\">\n",
              "      <th></th>\n",
              "      <th>0</th>\n",
              "      <th>1</th>\n",
              "      <th>2</th>\n",
              "      <th>3</th>\n",
              "    </tr>\n",
              "  </thead>\n",
              "  <tbody>\n",
              "    <tr>\n",
              "      <th>0</th>\n",
              "      <td>0.490301</td>\n",
              "      <td>0.419220</td>\n",
              "      <td>0.772356</td>\n",
              "      <td>0.445771</td>\n",
              "    </tr>\n",
              "    <tr>\n",
              "      <th>1</th>\n",
              "      <td>0.493730</td>\n",
              "      <td>0.446723</td>\n",
              "      <td>0.731196</td>\n",
              "      <td>0.358245</td>\n",
              "    </tr>\n",
              "    <tr>\n",
              "      <th>2</th>\n",
              "      <td>0.103735</td>\n",
              "      <td>0.899375</td>\n",
              "      <td>0.152742</td>\n",
              "      <td>0.318635</td>\n",
              "    </tr>\n",
              "    <tr>\n",
              "      <th>3</th>\n",
              "      <td>0.491407</td>\n",
              "      <td>0.510798</td>\n",
              "      <td>0.534330</td>\n",
              "      <td>0.302291</td>\n",
              "    </tr>\n",
              "    <tr>\n",
              "      <th>4</th>\n",
              "      <td>0.158698</td>\n",
              "      <td>0.854129</td>\n",
              "      <td>0.167194</td>\n",
              "      <td>0.249214</td>\n",
              "    </tr>\n",
              "  </tbody>\n",
              "</table>\n",
              "</div>\n",
              "      <button class=\"colab-df-convert\" onclick=\"convertToInteractive('df-88e8d1d7-1945-468a-a3c4-5fa0fc48b372')\"\n",
              "              title=\"Convert this dataframe to an interactive table.\"\n",
              "              style=\"display:none;\">\n",
              "        \n",
              "  <svg xmlns=\"http://www.w3.org/2000/svg\" height=\"24px\"viewBox=\"0 0 24 24\"\n",
              "       width=\"24px\">\n",
              "    <path d=\"M0 0h24v24H0V0z\" fill=\"none\"/>\n",
              "    <path d=\"M18.56 5.44l.94 2.06.94-2.06 2.06-.94-2.06-.94-.94-2.06-.94 2.06-2.06.94zm-11 1L8.5 8.5l.94-2.06 2.06-.94-2.06-.94L8.5 2.5l-.94 2.06-2.06.94zm10 10l.94 2.06.94-2.06 2.06-.94-2.06-.94-.94-2.06-.94 2.06-2.06.94z\"/><path d=\"M17.41 7.96l-1.37-1.37c-.4-.4-.92-.59-1.43-.59-.52 0-1.04.2-1.43.59L10.3 9.45l-7.72 7.72c-.78.78-.78 2.05 0 2.83L4 21.41c.39.39.9.59 1.41.59.51 0 1.02-.2 1.41-.59l7.78-7.78 2.81-2.81c.8-.78.8-2.07 0-2.86zM5.41 20L4 18.59l7.72-7.72 1.47 1.35L5.41 20z\"/>\n",
              "  </svg>\n",
              "      </button>\n",
              "      \n",
              "  <style>\n",
              "    .colab-df-container {\n",
              "      display:flex;\n",
              "      flex-wrap:wrap;\n",
              "      gap: 12px;\n",
              "    }\n",
              "\n",
              "    .colab-df-convert {\n",
              "      background-color: #E8F0FE;\n",
              "      border: none;\n",
              "      border-radius: 50%;\n",
              "      cursor: pointer;\n",
              "      display: none;\n",
              "      fill: #1967D2;\n",
              "      height: 32px;\n",
              "      padding: 0 0 0 0;\n",
              "      width: 32px;\n",
              "    }\n",
              "\n",
              "    .colab-df-convert:hover {\n",
              "      background-color: #E2EBFA;\n",
              "      box-shadow: 0px 1px 2px rgba(60, 64, 67, 0.3), 0px 1px 3px 1px rgba(60, 64, 67, 0.15);\n",
              "      fill: #174EA6;\n",
              "    }\n",
              "\n",
              "    [theme=dark] .colab-df-convert {\n",
              "      background-color: #3B4455;\n",
              "      fill: #D2E3FC;\n",
              "    }\n",
              "\n",
              "    [theme=dark] .colab-df-convert:hover {\n",
              "      background-color: #434B5C;\n",
              "      box-shadow: 0px 1px 3px 1px rgba(0, 0, 0, 0.15);\n",
              "      filter: drop-shadow(0px 1px 2px rgba(0, 0, 0, 0.3));\n",
              "      fill: #FFFFFF;\n",
              "    }\n",
              "  </style>\n",
              "\n",
              "      <script>\n",
              "        const buttonEl =\n",
              "          document.querySelector('#df-88e8d1d7-1945-468a-a3c4-5fa0fc48b372 button.colab-df-convert');\n",
              "        buttonEl.style.display =\n",
              "          google.colab.kernel.accessAllowed ? 'block' : 'none';\n",
              "\n",
              "        async function convertToInteractive(key) {\n",
              "          const element = document.querySelector('#df-88e8d1d7-1945-468a-a3c4-5fa0fc48b372');\n",
              "          const dataTable =\n",
              "            await google.colab.kernel.invokeFunction('convertToInteractive',\n",
              "                                                     [key], {});\n",
              "          if (!dataTable) return;\n",
              "\n",
              "          const docLinkHtml = 'Like what you see? Visit the ' +\n",
              "            '<a target=\"_blank\" href=https://colab.research.google.com/notebooks/data_table.ipynb>data table notebook</a>'\n",
              "            + ' to learn more about interactive tables.';\n",
              "          element.innerHTML = '';\n",
              "          dataTable['output_type'] = 'display_data';\n",
              "          await google.colab.output.renderOutput(dataTable, element);\n",
              "          const docLink = document.createElement('div');\n",
              "          docLink.innerHTML = docLinkHtml;\n",
              "          element.appendChild(docLink);\n",
              "        }\n",
              "      </script>\n",
              "    </div>\n",
              "  </div>\n",
              "  "
            ],
            "text/plain": [
              "          0         1         2         3\n",
              "0  0.490301  0.419220  0.772356  0.445771\n",
              "1  0.493730  0.446723  0.731196  0.358245\n",
              "2  0.103735  0.899375  0.152742  0.318635\n",
              "3  0.491407  0.510798  0.534330  0.302291\n",
              "4  0.158698  0.854129  0.167194  0.249214"
            ]
          },
          "metadata": {},
          "execution_count": 43
        }
      ]
    },
    {
      "cell_type": "code",
      "source": [
        "x_test = x_test.rename(columns={0: 'Rock', 1: 'TOC (%)', 2: 'Moisture (%)', 3: 'Temp (C)'})\n",
        "y_test = y_test.rename(columns={0: 'a', 1: 'b', 2: 'c', 3: 'd'})\n",
        "y_test_pred = y_test_pred.rename(columns={0: 'a', 1: 'b', 2: 'c', 3: 'd'})"
      ],
      "metadata": {
        "id": "h90qbMMw97qx"
      },
      "execution_count": null,
      "outputs": []
    },
    {
      "cell_type": "code",
      "source": [
        "rock_dic = {0: 'Shale/Clay', 1: 'Coal'}\n",
        "x_test.Rock = [rock_dic[item] for item in x_test.Rock]"
      ],
      "metadata": {
        "id": "hr_EBzFe_bfU"
      },
      "execution_count": null,
      "outputs": []
    },
    {
      "cell_type": "code",
      "source": [
        "cols = ['TOC (%)', 'Moisture (%)', 'Temp (C)']\n",
        "for col in cols:\n",
        "  norm = MinMaxScaler().fit(df_backup[[col]])\n",
        "  x_test[[col]] = norm.inverse_transform(x_test[[col]])"
      ],
      "metadata": {
        "id": "VTqGxC4TASaG"
      },
      "execution_count": null,
      "outputs": []
    },
    {
      "cell_type": "code",
      "source": [
        "cols = ['a', 'b', 'c', 'd']\n",
        "for col in cols:\n",
        "  norm = MinMaxScaler().fit(df_backup[[col]])\n",
        "  y_test[[col]] = norm.inverse_transform(y_test[[col]])\n",
        "  y_test_pred[[col]] = norm.inverse_transform(y_test_pred[[col]])"
      ],
      "metadata": {
        "id": "tfvBVipaAKdE"
      },
      "execution_count": null,
      "outputs": []
    },
    {
      "cell_type": "code",
      "source": [
        "x_test"
      ],
      "metadata": {
        "id": "-SszXuGkCglu",
        "colab": {
          "base_uri": "https://localhost:8080/"
        },
        "outputId": "cf36cb75-89ab-48ee-f66d-e5c3bdd99118"
      },
      "execution_count": null,
      "outputs": [
        {
          "output_type": "execute_result",
          "data": {
            "text/html": [
              "\n",
              "  <div id=\"df-38da9c43-4eb6-4387-aa62-f3a8302b4403\">\n",
              "    <div class=\"colab-df-container\">\n",
              "      <div>\n",
              "<style scoped>\n",
              "    .dataframe tbody tr th:only-of-type {\n",
              "        vertical-align: middle;\n",
              "    }\n",
              "\n",
              "    .dataframe tbody tr th {\n",
              "        vertical-align: top;\n",
              "    }\n",
              "\n",
              "    .dataframe thead th {\n",
              "        text-align: right;\n",
              "    }\n",
              "</style>\n",
              "<table border=\"1\" class=\"dataframe\">\n",
              "  <thead>\n",
              "    <tr style=\"text-align: right;\">\n",
              "      <th></th>\n",
              "      <th>Rock</th>\n",
              "      <th>TOC (%)</th>\n",
              "      <th>Moisture (%)</th>\n",
              "      <th>Temp (C)</th>\n",
              "    </tr>\n",
              "  </thead>\n",
              "  <tbody>\n",
              "    <tr>\n",
              "      <th>0</th>\n",
              "      <td>Shale/Clay</td>\n",
              "      <td>5.017512</td>\n",
              "      <td>0.00</td>\n",
              "      <td>50.000004</td>\n",
              "    </tr>\n",
              "    <tr>\n",
              "      <th>1</th>\n",
              "      <td>Shale/Clay</td>\n",
              "      <td>4.986634</td>\n",
              "      <td>0.00</td>\n",
              "      <td>50.400002</td>\n",
              "    </tr>\n",
              "    <tr>\n",
              "      <th>2</th>\n",
              "      <td>Shale/Clay</td>\n",
              "      <td>4.500000</td>\n",
              "      <td>0.00</td>\n",
              "      <td>64.999992</td>\n",
              "    </tr>\n",
              "    <tr>\n",
              "      <th>3</th>\n",
              "      <td>Shale/Clay</td>\n",
              "      <td>5.150000</td>\n",
              "      <td>3.00</td>\n",
              "      <td>70.000008</td>\n",
              "    </tr>\n",
              "    <tr>\n",
              "      <th>4</th>\n",
              "      <td>Coal</td>\n",
              "      <td>62.200001</td>\n",
              "      <td>0.00</td>\n",
              "      <td>61.000000</td>\n",
              "    </tr>\n",
              "    <tr>\n",
              "      <th>5</th>\n",
              "      <td>Shale/Clay</td>\n",
              "      <td>2.340000</td>\n",
              "      <td>1.72</td>\n",
              "      <td>67.000000</td>\n",
              "    </tr>\n",
              "    <tr>\n",
              "      <th>6</th>\n",
              "      <td>Shale/Clay</td>\n",
              "      <td>1.640000</td>\n",
              "      <td>4.37</td>\n",
              "      <td>30.000000</td>\n",
              "    </tr>\n",
              "  </tbody>\n",
              "</table>\n",
              "</div>\n",
              "      <button class=\"colab-df-convert\" onclick=\"convertToInteractive('df-38da9c43-4eb6-4387-aa62-f3a8302b4403')\"\n",
              "              title=\"Convert this dataframe to an interactive table.\"\n",
              "              style=\"display:none;\">\n",
              "        \n",
              "  <svg xmlns=\"http://www.w3.org/2000/svg\" height=\"24px\"viewBox=\"0 0 24 24\"\n",
              "       width=\"24px\">\n",
              "    <path d=\"M0 0h24v24H0V0z\" fill=\"none\"/>\n",
              "    <path d=\"M18.56 5.44l.94 2.06.94-2.06 2.06-.94-2.06-.94-.94-2.06-.94 2.06-2.06.94zm-11 1L8.5 8.5l.94-2.06 2.06-.94-2.06-.94L8.5 2.5l-.94 2.06-2.06.94zm10 10l.94 2.06.94-2.06 2.06-.94-2.06-.94-.94-2.06-.94 2.06-2.06.94z\"/><path d=\"M17.41 7.96l-1.37-1.37c-.4-.4-.92-.59-1.43-.59-.52 0-1.04.2-1.43.59L10.3 9.45l-7.72 7.72c-.78.78-.78 2.05 0 2.83L4 21.41c.39.39.9.59 1.41.59.51 0 1.02-.2 1.41-.59l7.78-7.78 2.81-2.81c.8-.78.8-2.07 0-2.86zM5.41 20L4 18.59l7.72-7.72 1.47 1.35L5.41 20z\"/>\n",
              "  </svg>\n",
              "      </button>\n",
              "      \n",
              "  <style>\n",
              "    .colab-df-container {\n",
              "      display:flex;\n",
              "      flex-wrap:wrap;\n",
              "      gap: 12px;\n",
              "    }\n",
              "\n",
              "    .colab-df-convert {\n",
              "      background-color: #E8F0FE;\n",
              "      border: none;\n",
              "      border-radius: 50%;\n",
              "      cursor: pointer;\n",
              "      display: none;\n",
              "      fill: #1967D2;\n",
              "      height: 32px;\n",
              "      padding: 0 0 0 0;\n",
              "      width: 32px;\n",
              "    }\n",
              "\n",
              "    .colab-df-convert:hover {\n",
              "      background-color: #E2EBFA;\n",
              "      box-shadow: 0px 1px 2px rgba(60, 64, 67, 0.3), 0px 1px 3px 1px rgba(60, 64, 67, 0.15);\n",
              "      fill: #174EA6;\n",
              "    }\n",
              "\n",
              "    [theme=dark] .colab-df-convert {\n",
              "      background-color: #3B4455;\n",
              "      fill: #D2E3FC;\n",
              "    }\n",
              "\n",
              "    [theme=dark] .colab-df-convert:hover {\n",
              "      background-color: #434B5C;\n",
              "      box-shadow: 0px 1px 3px 1px rgba(0, 0, 0, 0.15);\n",
              "      filter: drop-shadow(0px 1px 2px rgba(0, 0, 0, 0.3));\n",
              "      fill: #FFFFFF;\n",
              "    }\n",
              "  </style>\n",
              "\n",
              "      <script>\n",
              "        const buttonEl =\n",
              "          document.querySelector('#df-38da9c43-4eb6-4387-aa62-f3a8302b4403 button.colab-df-convert');\n",
              "        buttonEl.style.display =\n",
              "          google.colab.kernel.accessAllowed ? 'block' : 'none';\n",
              "\n",
              "        async function convertToInteractive(key) {\n",
              "          const element = document.querySelector('#df-38da9c43-4eb6-4387-aa62-f3a8302b4403');\n",
              "          const dataTable =\n",
              "            await google.colab.kernel.invokeFunction('convertToInteractive',\n",
              "                                                     [key], {});\n",
              "          if (!dataTable) return;\n",
              "\n",
              "          const docLinkHtml = 'Like what you see? Visit the ' +\n",
              "            '<a target=\"_blank\" href=https://colab.research.google.com/notebooks/data_table.ipynb>data table notebook</a>'\n",
              "            + ' to learn more about interactive tables.';\n",
              "          element.innerHTML = '';\n",
              "          dataTable['output_type'] = 'display_data';\n",
              "          await google.colab.output.renderOutput(dataTable, element);\n",
              "          const docLink = document.createElement('div');\n",
              "          docLink.innerHTML = docLinkHtml;\n",
              "          element.appendChild(docLink);\n",
              "        }\n",
              "      </script>\n",
              "    </div>\n",
              "  </div>\n",
              "  "
            ],
            "text/plain": [
              "         Rock    TOC (%)  Moisture (%)   Temp (C)\n",
              "0  Shale/Clay   5.017512          0.00  50.000004\n",
              "1  Shale/Clay   4.986634          0.00  50.400002\n",
              "2  Shale/Clay   4.500000          0.00  64.999992\n",
              "3  Shale/Clay   5.150000          3.00  70.000008\n",
              "4        Coal  62.200001          0.00  61.000000\n",
              "5  Shale/Clay   2.340000          1.72  67.000000\n",
              "6  Shale/Clay   1.640000          4.37  30.000000"
            ]
          },
          "metadata": {},
          "execution_count": 48
        }
      ]
    },
    {
      "cell_type": "code",
      "source": [
        "y_test"
      ],
      "metadata": {
        "id": "td887hR4ChyE",
        "colab": {
          "base_uri": "https://localhost:8080/"
        },
        "outputId": "bc251b92-caa0-4472-8f6c-3c835dc6958b"
      },
      "execution_count": null,
      "outputs": [
        {
          "output_type": "execute_result",
          "data": {
            "text/html": [
              "\n",
              "  <div id=\"df-026ceba6-8b97-4929-8a60-3576d91fa6be\">\n",
              "    <div class=\"colab-df-container\">\n",
              "      <div>\n",
              "<style scoped>\n",
              "    .dataframe tbody tr th:only-of-type {\n",
              "        vertical-align: middle;\n",
              "    }\n",
              "\n",
              "    .dataframe tbody tr th {\n",
              "        vertical-align: top;\n",
              "    }\n",
              "\n",
              "    .dataframe thead th {\n",
              "        text-align: right;\n",
              "    }\n",
              "</style>\n",
              "<table border=\"1\" class=\"dataframe\">\n",
              "  <thead>\n",
              "    <tr style=\"text-align: right;\">\n",
              "      <th></th>\n",
              "      <th>a</th>\n",
              "      <th>b</th>\n",
              "      <th>c</th>\n",
              "      <th>d</th>\n",
              "    </tr>\n",
              "  </thead>\n",
              "  <tbody>\n",
              "    <tr>\n",
              "      <th>0</th>\n",
              "      <td>0.006266</td>\n",
              "      <td>-0.175446</td>\n",
              "      <td>1.691596</td>\n",
              "      <td>0.202967</td>\n",
              "    </tr>\n",
              "    <tr>\n",
              "      <th>1</th>\n",
              "      <td>0.006318</td>\n",
              "      <td>-0.166586</td>\n",
              "      <td>1.601216</td>\n",
              "      <td>0.138973</td>\n",
              "    </tr>\n",
              "    <tr>\n",
              "      <th>2</th>\n",
              "      <td>0.000400</td>\n",
              "      <td>-0.020768</td>\n",
              "      <td>0.331034</td>\n",
              "      <td>0.110013</td>\n",
              "    </tr>\n",
              "    <tr>\n",
              "      <th>3</th>\n",
              "      <td>0.006283</td>\n",
              "      <td>-0.145945</td>\n",
              "      <td>1.168933</td>\n",
              "      <td>0.098063</td>\n",
              "    </tr>\n",
              "    <tr>\n",
              "      <th>4</th>\n",
              "      <td>0.001234</td>\n",
              "      <td>-0.035344</td>\n",
              "      <td>0.362767</td>\n",
              "      <td>0.059257</td>\n",
              "    </tr>\n",
              "    <tr>\n",
              "      <th>5</th>\n",
              "      <td>0.000048</td>\n",
              "      <td>-0.002494</td>\n",
              "      <td>0.045912</td>\n",
              "      <td>0.009437</td>\n",
              "    </tr>\n",
              "    <tr>\n",
              "      <th>6</th>\n",
              "      <td>-0.000172</td>\n",
              "      <td>-0.006712</td>\n",
              "      <td>0.151529</td>\n",
              "      <td>0.010260</td>\n",
              "    </tr>\n",
              "  </tbody>\n",
              "</table>\n",
              "</div>\n",
              "      <button class=\"colab-df-convert\" onclick=\"convertToInteractive('df-026ceba6-8b97-4929-8a60-3576d91fa6be')\"\n",
              "              title=\"Convert this dataframe to an interactive table.\"\n",
              "              style=\"display:none;\">\n",
              "        \n",
              "  <svg xmlns=\"http://www.w3.org/2000/svg\" height=\"24px\"viewBox=\"0 0 24 24\"\n",
              "       width=\"24px\">\n",
              "    <path d=\"M0 0h24v24H0V0z\" fill=\"none\"/>\n",
              "    <path d=\"M18.56 5.44l.94 2.06.94-2.06 2.06-.94-2.06-.94-.94-2.06-.94 2.06-2.06.94zm-11 1L8.5 8.5l.94-2.06 2.06-.94-2.06-.94L8.5 2.5l-.94 2.06-2.06.94zm10 10l.94 2.06.94-2.06 2.06-.94-2.06-.94-.94-2.06-.94 2.06-2.06.94z\"/><path d=\"M17.41 7.96l-1.37-1.37c-.4-.4-.92-.59-1.43-.59-.52 0-1.04.2-1.43.59L10.3 9.45l-7.72 7.72c-.78.78-.78 2.05 0 2.83L4 21.41c.39.39.9.59 1.41.59.51 0 1.02-.2 1.41-.59l7.78-7.78 2.81-2.81c.8-.78.8-2.07 0-2.86zM5.41 20L4 18.59l7.72-7.72 1.47 1.35L5.41 20z\"/>\n",
              "  </svg>\n",
              "      </button>\n",
              "      \n",
              "  <style>\n",
              "    .colab-df-container {\n",
              "      display:flex;\n",
              "      flex-wrap:wrap;\n",
              "      gap: 12px;\n",
              "    }\n",
              "\n",
              "    .colab-df-convert {\n",
              "      background-color: #E8F0FE;\n",
              "      border: none;\n",
              "      border-radius: 50%;\n",
              "      cursor: pointer;\n",
              "      display: none;\n",
              "      fill: #1967D2;\n",
              "      height: 32px;\n",
              "      padding: 0 0 0 0;\n",
              "      width: 32px;\n",
              "    }\n",
              "\n",
              "    .colab-df-convert:hover {\n",
              "      background-color: #E2EBFA;\n",
              "      box-shadow: 0px 1px 2px rgba(60, 64, 67, 0.3), 0px 1px 3px 1px rgba(60, 64, 67, 0.15);\n",
              "      fill: #174EA6;\n",
              "    }\n",
              "\n",
              "    [theme=dark] .colab-df-convert {\n",
              "      background-color: #3B4455;\n",
              "      fill: #D2E3FC;\n",
              "    }\n",
              "\n",
              "    [theme=dark] .colab-df-convert:hover {\n",
              "      background-color: #434B5C;\n",
              "      box-shadow: 0px 1px 3px 1px rgba(0, 0, 0, 0.15);\n",
              "      filter: drop-shadow(0px 1px 2px rgba(0, 0, 0, 0.3));\n",
              "      fill: #FFFFFF;\n",
              "    }\n",
              "  </style>\n",
              "\n",
              "      <script>\n",
              "        const buttonEl =\n",
              "          document.querySelector('#df-026ceba6-8b97-4929-8a60-3576d91fa6be button.colab-df-convert');\n",
              "        buttonEl.style.display =\n",
              "          google.colab.kernel.accessAllowed ? 'block' : 'none';\n",
              "\n",
              "        async function convertToInteractive(key) {\n",
              "          const element = document.querySelector('#df-026ceba6-8b97-4929-8a60-3576d91fa6be');\n",
              "          const dataTable =\n",
              "            await google.colab.kernel.invokeFunction('convertToInteractive',\n",
              "                                                     [key], {});\n",
              "          if (!dataTable) return;\n",
              "\n",
              "          const docLinkHtml = 'Like what you see? Visit the ' +\n",
              "            '<a target=\"_blank\" href=https://colab.research.google.com/notebooks/data_table.ipynb>data table notebook</a>'\n",
              "            + ' to learn more about interactive tables.';\n",
              "          element.innerHTML = '';\n",
              "          dataTable['output_type'] = 'display_data';\n",
              "          await google.colab.output.renderOutput(dataTable, element);\n",
              "          const docLink = document.createElement('div');\n",
              "          docLink.innerHTML = docLinkHtml;\n",
              "          element.appendChild(docLink);\n",
              "        }\n",
              "      </script>\n",
              "    </div>\n",
              "  </div>\n",
              "  "
            ],
            "text/plain": [
              "          a         b         c         d\n",
              "0  0.006266 -0.175446  1.691596  0.202967\n",
              "1  0.006318 -0.166586  1.601216  0.138973\n",
              "2  0.000400 -0.020768  0.331034  0.110013\n",
              "3  0.006283 -0.145945  1.168933  0.098063\n",
              "4  0.001234 -0.035344  0.362767  0.059257\n",
              "5  0.000048 -0.002494  0.045912  0.009437\n",
              "6 -0.000172 -0.006712  0.151529  0.010260"
            ]
          },
          "metadata": {},
          "execution_count": 49
        }
      ]
    },
    {
      "cell_type": "code",
      "source": [
        "y_test_pred"
      ],
      "metadata": {
        "colab": {
          "base_uri": "https://localhost:8080/",
          "height": 269
        },
        "id": "ivNBf6tC44VP",
        "outputId": "e1c9d91a-e7c8-4e1e-a39c-b37b01784a50"
      },
      "execution_count": null,
      "outputs": [
        {
          "output_type": "execute_result",
          "data": {
            "text/html": [
              "\n",
              "  <div id=\"df-c5576b00-0b66-4be7-9c72-8c40573134a6\">\n",
              "    <div class=\"colab-df-container\">\n",
              "      <div>\n",
              "<style scoped>\n",
              "    .dataframe tbody tr th:only-of-type {\n",
              "        vertical-align: middle;\n",
              "    }\n",
              "\n",
              "    .dataframe tbody tr th {\n",
              "        vertical-align: top;\n",
              "    }\n",
              "\n",
              "    .dataframe thead th {\n",
              "        text-align: right;\n",
              "    }\n",
              "</style>\n",
              "<table border=\"1\" class=\"dataframe\">\n",
              "  <thead>\n",
              "    <tr style=\"text-align: right;\">\n",
              "      <th></th>\n",
              "      <th>a</th>\n",
              "      <th>b</th>\n",
              "      <th>c</th>\n",
              "      <th>d</th>\n",
              "    </tr>\n",
              "  </thead>\n",
              "  <tbody>\n",
              "    <tr>\n",
              "      <th>0</th>\n",
              "      <td>-0.003261</td>\n",
              "      <td>-0.039449</td>\n",
              "      <td>0.456246</td>\n",
              "      <td>-0.436667</td>\n",
              "    </tr>\n",
              "    <tr>\n",
              "      <th>1</th>\n",
              "      <td>-0.003258</td>\n",
              "      <td>-0.039236</td>\n",
              "      <td>0.454573</td>\n",
              "      <td>-0.436775</td>\n",
              "    </tr>\n",
              "    <tr>\n",
              "      <th>2</th>\n",
              "      <td>-0.003179</td>\n",
              "      <td>-0.032202</td>\n",
              "      <td>0.387828</td>\n",
              "      <td>-0.438835</td>\n",
              "    </tr>\n",
              "    <tr>\n",
              "      <th>3</th>\n",
              "      <td>-0.003721</td>\n",
              "      <td>-0.065454</td>\n",
              "      <td>0.806439</td>\n",
              "      <td>-0.466466</td>\n",
              "    </tr>\n",
              "    <tr>\n",
              "      <th>4</th>\n",
              "      <td>-0.006338</td>\n",
              "      <td>-0.011795</td>\n",
              "      <td>0.083531</td>\n",
              "      <td>-0.443768</td>\n",
              "    </tr>\n",
              "    <tr>\n",
              "      <th>5</th>\n",
              "      <td>-0.003008</td>\n",
              "      <td>-0.053822</td>\n",
              "      <td>0.550939</td>\n",
              "      <td>-0.434695</td>\n",
              "    </tr>\n",
              "    <tr>\n",
              "      <th>6</th>\n",
              "      <td>-0.003884</td>\n",
              "      <td>-0.088691</td>\n",
              "      <td>0.467188</td>\n",
              "      <td>-0.364375</td>\n",
              "    </tr>\n",
              "  </tbody>\n",
              "</table>\n",
              "</div>\n",
              "      <button class=\"colab-df-convert\" onclick=\"convertToInteractive('df-c5576b00-0b66-4be7-9c72-8c40573134a6')\"\n",
              "              title=\"Convert this dataframe to an interactive table.\"\n",
              "              style=\"display:none;\">\n",
              "        \n",
              "  <svg xmlns=\"http://www.w3.org/2000/svg\" height=\"24px\"viewBox=\"0 0 24 24\"\n",
              "       width=\"24px\">\n",
              "    <path d=\"M0 0h24v24H0V0z\" fill=\"none\"/>\n",
              "    <path d=\"M18.56 5.44l.94 2.06.94-2.06 2.06-.94-2.06-.94-.94-2.06-.94 2.06-2.06.94zm-11 1L8.5 8.5l.94-2.06 2.06-.94-2.06-.94L8.5 2.5l-.94 2.06-2.06.94zm10 10l.94 2.06.94-2.06 2.06-.94-2.06-.94-.94-2.06-.94 2.06-2.06.94z\"/><path d=\"M17.41 7.96l-1.37-1.37c-.4-.4-.92-.59-1.43-.59-.52 0-1.04.2-1.43.59L10.3 9.45l-7.72 7.72c-.78.78-.78 2.05 0 2.83L4 21.41c.39.39.9.59 1.41.59.51 0 1.02-.2 1.41-.59l7.78-7.78 2.81-2.81c.8-.78.8-2.07 0-2.86zM5.41 20L4 18.59l7.72-7.72 1.47 1.35L5.41 20z\"/>\n",
              "  </svg>\n",
              "      </button>\n",
              "      \n",
              "  <style>\n",
              "    .colab-df-container {\n",
              "      display:flex;\n",
              "      flex-wrap:wrap;\n",
              "      gap: 12px;\n",
              "    }\n",
              "\n",
              "    .colab-df-convert {\n",
              "      background-color: #E8F0FE;\n",
              "      border: none;\n",
              "      border-radius: 50%;\n",
              "      cursor: pointer;\n",
              "      display: none;\n",
              "      fill: #1967D2;\n",
              "      height: 32px;\n",
              "      padding: 0 0 0 0;\n",
              "      width: 32px;\n",
              "    }\n",
              "\n",
              "    .colab-df-convert:hover {\n",
              "      background-color: #E2EBFA;\n",
              "      box-shadow: 0px 1px 2px rgba(60, 64, 67, 0.3), 0px 1px 3px 1px rgba(60, 64, 67, 0.15);\n",
              "      fill: #174EA6;\n",
              "    }\n",
              "\n",
              "    [theme=dark] .colab-df-convert {\n",
              "      background-color: #3B4455;\n",
              "      fill: #D2E3FC;\n",
              "    }\n",
              "\n",
              "    [theme=dark] .colab-df-convert:hover {\n",
              "      background-color: #434B5C;\n",
              "      box-shadow: 0px 1px 3px 1px rgba(0, 0, 0, 0.15);\n",
              "      filter: drop-shadow(0px 1px 2px rgba(0, 0, 0, 0.3));\n",
              "      fill: #FFFFFF;\n",
              "    }\n",
              "  </style>\n",
              "\n",
              "      <script>\n",
              "        const buttonEl =\n",
              "          document.querySelector('#df-c5576b00-0b66-4be7-9c72-8c40573134a6 button.colab-df-convert');\n",
              "        buttonEl.style.display =\n",
              "          google.colab.kernel.accessAllowed ? 'block' : 'none';\n",
              "\n",
              "        async function convertToInteractive(key) {\n",
              "          const element = document.querySelector('#df-c5576b00-0b66-4be7-9c72-8c40573134a6');\n",
              "          const dataTable =\n",
              "            await google.colab.kernel.invokeFunction('convertToInteractive',\n",
              "                                                     [key], {});\n",
              "          if (!dataTable) return;\n",
              "\n",
              "          const docLinkHtml = 'Like what you see? Visit the ' +\n",
              "            '<a target=\"_blank\" href=https://colab.research.google.com/notebooks/data_table.ipynb>data table notebook</a>'\n",
              "            + ' to learn more about interactive tables.';\n",
              "          element.innerHTML = '';\n",
              "          dataTable['output_type'] = 'display_data';\n",
              "          await google.colab.output.renderOutput(dataTable, element);\n",
              "          const docLink = document.createElement('div');\n",
              "          docLink.innerHTML = docLinkHtml;\n",
              "          element.appendChild(docLink);\n",
              "        }\n",
              "      </script>\n",
              "    </div>\n",
              "  </div>\n",
              "  "
            ],
            "text/plain": [
              "          a         b         c         d\n",
              "0 -0.003261 -0.039449  0.456246 -0.436667\n",
              "1 -0.003258 -0.039236  0.454573 -0.436775\n",
              "2 -0.003179 -0.032202  0.387828 -0.438835\n",
              "3 -0.003721 -0.065454  0.806439 -0.466466\n",
              "4 -0.006338 -0.011795  0.083531 -0.443768\n",
              "5 -0.003008 -0.053822  0.550939 -0.434695\n",
              "6 -0.003884 -0.088691  0.467188 -0.364375"
            ]
          },
          "metadata": {},
          "execution_count": 50
        }
      ]
    },
    {
      "cell_type": "markdown",
      "source": [
        "### We are now going to test our model and predict using real experimental data:"
      ],
      "metadata": {
        "id": "RIWyaQc_fPmr"
      }
    },
    {
      "cell_type": "code",
      "source": [
        "# It reads from original file again to NOT include the imposed (0,0) points.\n",
        "data_df=pd.read_csv('gdrive/My Drive/CO2_Database/groupedC1_minusConstP.csv')"
      ],
      "metadata": {
        "id": "Snz-xG5WC9YL"
      },
      "execution_count": null,
      "outputs": []
    },
    {
      "cell_type": "code",
      "source": [
        "(data_df.shape[0], df.shape[0])"
      ],
      "metadata": {
        "id": "MZsauIFgvYLB",
        "colab": {
          "base_uri": "https://localhost:8080/"
        },
        "outputId": "6b8cc065-c5b3-48aa-d7bc-5174e42d4a67"
      },
      "execution_count": null,
      "outputs": [
        {
          "output_type": "execute_result",
          "data": {
            "text/plain": [
              "(1661, 122)"
            ]
          },
          "metadata": {},
          "execution_count": 52
        }
      ]
    },
    {
      "cell_type": "code",
      "source": [
        "#for denormalisation purpose\n",
        "norm_a = MinMaxScaler().fit(df_backup[['a']])\n",
        "norm_b = MinMaxScaler().fit(df_backup[['b']])\n",
        "norm_c = MinMaxScaler().fit(df_backup[['c']])\n",
        "norm_d = MinMaxScaler().fit(df_backup[['d']])"
      ],
      "metadata": {
        "id": "SH_HBgr1zU6B"
      },
      "execution_count": null,
      "outputs": []
    },
    {
      "cell_type": "code",
      "source": [
        "i = 0\n",
        "P = []\n",
        "sorp_exp = []\n",
        "sorp_pred = []\n",
        "num_exp = 1\n",
        "cols = ['a', 'b', 'c', 'd']\n",
        "Result = []\n",
        "\n",
        "P.append(data_df['Pres. (MPa)'][i])\n",
        "sorp_exp.append(data_df['C1 Excess Sorption (cm3/gr)'][i])\n",
        "\n",
        "while i < data_df.shape[0] - 1:\n",
        "    i += 1\n",
        "    if data_df['Pres. (MPa)'][i] > data_df['Pres. (MPa)'][i-1]:\n",
        "        #experimental data:\n",
        "        P.append(data_df['Pres. (MPa)'][i-1])\n",
        "        sorp_exp.append(data_df['C1 Excess Sorption (cm3/gr)'][i-1])\n",
        "    else:\n",
        "        #experimental data (cont'd):\n",
        "        P.append(data_df['Pres. (MPa)'][i-1])\n",
        "        sorp_exp.append(data_df['C1 Excess Sorption (cm3/gr)'][i-1])\n",
        "        #model prediction:\n",
        "        poly_coef = df.iloc[[num_exp-1]]\n",
        "        feed = poly_coef[['Rock', 'TOC (%)', 'Moisture (%)', 'Temp (C)']]\n",
        "        result = model.predict(feed)\n",
        "\n",
        "        result[0][0] = norm_a.inverse_transform(result[0][0].reshape(1, -1))\n",
        "        result[0][1] = norm_b.inverse_transform(result[0][1].reshape(1, -1))\n",
        "        result[0][2] = norm_c.inverse_transform(result[0][2].reshape(1, -1))\n",
        "        result[0][3] = norm_d.inverse_transform(result[0][3].reshape(1, -1))\n",
        "        Result.append(result)\n",
        "        \n",
        "        for j in range(0, len(P)):\n",
        "            sorp_pred.append(result[0][0]*P[j]**3 + result[0][1]*P[j]**2 + result[0][2]*P[j] + result[0][3])\n",
        "            #print(sorp_exp[j], sorp_pred[j])\n",
        "            #print(100*(sorp_pred[j] - sorp_exp[j])/sorp_exp[j])\n",
        "        #comparison between experimental and calculated:\n",
        "        #correlation_matrix = np.corrcoef(x_values, y_values)\n",
        "        #correlation_xy = correlation_matrix[0,1]\n",
        "        #r_squared = correlation_xy**2\n",
        "\n",
        "        P = []\n",
        "        sorp_exp = []\n",
        "        sorp_pred = []\n",
        "        num_exp += 1"
      ],
      "metadata": {
        "id": "72g0zc62A4dH"
      },
      "execution_count": null,
      "outputs": []
    },
    {
      "cell_type": "code",
      "source": [
        "#last experimental data set:\n",
        "P.append(data_df['Pres. (MPa)'][data_df.shape[0]-1])\n",
        "sorp_exp.append(data_df['C1 Excess Sorption (cm3/gr)'][data_df.shape[0]-1])\n",
        "poly_coef = df.iloc[[num_exp-1]]\n",
        "feed = poly_coef[['Rock', 'TOC (%)', 'Moisture (%)', 'Temp (C)']]\n",
        "result = model.predict(feed)\n",
        "result[0][0] = norm_a.inverse_transform(result[0][0].reshape(1, -1))\n",
        "result[0][1] = norm_b.inverse_transform(result[0][1].reshape(1, -1))\n",
        "result[0][2] = norm_c.inverse_transform(result[0][2].reshape(1, -1))\n",
        "result[0][3] = norm_d.inverse_transform(result[0][3].reshape(1, -1))\n",
        "Result.append(result)\n",
        "num_exp += 1"
      ],
      "metadata": {
        "id": "2Ep_jy2FzC-Q"
      },
      "execution_count": null,
      "outputs": []
    },
    {
      "cell_type": "code",
      "source": [
        "df.shape"
      ],
      "metadata": {
        "colab": {
          "base_uri": "https://localhost:8080/"
        },
        "id": "W4FPEyjCxkHK",
        "outputId": "01cf35c9-b1eb-479f-a19d-a7b3a60f2e58"
      },
      "execution_count": null,
      "outputs": [
        {
          "output_type": "execute_result",
          "data": {
            "text/plain": [
              "(122, 9)"
            ]
          },
          "metadata": {},
          "execution_count": 56
        }
      ]
    },
    {
      "cell_type": "code",
      "source": [
        "len(Result)"
      ],
      "metadata": {
        "colab": {
          "base_uri": "https://localhost:8080/"
        },
        "id": "AmvKAf1zxnAZ",
        "outputId": "403aa798-f1bb-40bf-dc6b-b86becf3b8c8"
      },
      "execution_count": null,
      "outputs": [
        {
          "output_type": "execute_result",
          "data": {
            "text/plain": [
              "122"
            ]
          },
          "metadata": {},
          "execution_count": 57
        }
      ]
    }
  ],
  "metadata": {
    "colab": {
      "collapsed_sections": [],
      "name": "allC1_Functionalkeras_polyfit.ipynb",
      "provenance": [],
      "include_colab_link": true
    },
    "kernelspec": {
      "display_name": "Python 3",
      "language": "python",
      "name": "python3"
    },
    "language_info": {
      "codemirror_mode": {
        "name": "ipython",
        "version": 3
      },
      "file_extension": ".py",
      "mimetype": "text/x-python",
      "name": "python",
      "nbconvert_exporter": "python",
      "pygments_lexer": "ipython3",
      "version": "3.8.8"
    }
  },
  "nbformat": 4,
  "nbformat_minor": 0
}